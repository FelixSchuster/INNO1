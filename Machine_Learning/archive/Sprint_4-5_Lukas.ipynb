{
 "cells": [
  {
   "cell_type": "code",
   "execution_count": 1,
   "id": "265df0f1",
   "metadata": {},
   "outputs": [],
   "source": [
    "# import os\n",
    "# os.system(\"pip install --upgrade pip\")\n",
    "# os.system(\"python3.8 -m pip install --upgrade pip\")\n",
    "# os.system(\"pip install --extra-index-url=https://pypi.celonis.cloud/ pycelonis --upgrade\")\n",
    "# os.system(\"pip install pycelonis\")"
   ]
  },
  {
   "cell_type": "code",
   "execution_count": 2,
   "id": "d37c6f7f",
   "metadata": {},
   "outputs": [],
   "source": [
    "from pycelonis import *\n",
    "from pycelonis.pql import *"
   ]
  },
  {
   "cell_type": "code",
   "execution_count": 3,
   "id": "e29cd6f3",
   "metadata": {},
   "outputs": [
    {
     "name": "stderr",
     "output_type": "stream",
     "text": [
      "[2023-06-02 23:18:54,833] WARNING: Your PyCelonis Version 2.0.3 is outdated (Newest Version: 2.2.0). Please upgrade the package via: pip install --extra-index-url=https://pypi.celonis.cloud/ pycelonis pycelonis_core --upgrade\n"
     ]
    },
    {
     "name": "stdout",
     "output_type": "stream",
     "text": [
      "[2023-06-02 23:18:54,926] INFO: Initial connect successful! PyCelonis Version: 2.0.3\n"
     ]
    }
   ],
   "source": [
    "url = \"https://academic-if21b054-technikum-wien-at.eu-2.celonis.cloud/\"\n",
    "\n",
    "file = open('./APP_KEY.txt')\n",
    "\n",
    "api_token = file.read()\n",
    "file.close()\n",
    "\n",
    "key_type = \"APP_KEY\"\n",
    "celonis = get_celonis(base_url=url, api_token=api_token, key_type=key_type, permissions=False)"
   ]
  },
  {
   "cell_type": "code",
   "execution_count": 4,
   "id": "94fbd20f",
   "metadata": {},
   "outputs": [
    {
     "data": {
      "text/plain": [
       "[\n",
       "\tDataPool(id='5656d8b6-63fd-41f0-9e10-6183b71028c9', name='datapool-filtered-final-version'),\n",
       "\tDataPool(id='791de0ea-2d8b-43d2-946b-1bc034123683', name='datapool-final-version ')\n",
       "]"
      ]
     },
     "execution_count": 4,
     "metadata": {},
     "output_type": "execute_result"
    }
   ],
   "source": [
    "celonis.data_integration.get_data_pools()"
   ]
  },
  {
   "cell_type": "code",
   "execution_count": 5,
   "id": "54e7a03a",
   "metadata": {},
   "outputs": [],
   "source": [
    "data_pool_id = \"5656d8b6-63fd-41f0-9e10-6183b71028c9\"\n",
    "data_pool = celonis.data_integration.get_data_pool(data_pool_id)"
   ]
  },
  {
   "cell_type": "code",
   "execution_count": 6,
   "id": "7b912c95",
   "metadata": {},
   "outputs": [
    {
     "data": {
      "text/plain": [
       "[\n",
       "\tDataModel(id='ad437bad-a13d-4f31-b247-0760c57ae3b0', name='datamodel-filtered-final-version', pool_id='5656d8b6-63fd-41f0-9e10-6183b71028c9'),\n",
       "\tDataModel(id='d4109623-5dcd-41c7-8a46-48d820f5f3bc', name='datamodel-filtered-final-version-backup', pool_id='5656d8b6-63fd-41f0-9e10-6183b71028c9')\n",
       "]"
      ]
     },
     "execution_count": 6,
     "metadata": {},
     "output_type": "execute_result"
    }
   ],
   "source": [
    "data_pool.get_data_models()"
   ]
  },
  {
   "cell_type": "code",
   "execution_count": 7,
   "id": "15f1ad57",
   "metadata": {},
   "outputs": [],
   "source": [
    "data_model_id = \"ad437bad-a13d-4f31-b247-0760c57ae3b0\"\n",
    "data_model = data_pool.get_data_model(data_model_id)"
   ]
  },
  {
   "cell_type": "code",
   "execution_count": 8,
   "id": "05aebf0d",
   "metadata": {},
   "outputs": [
    {
     "data": {
      "text/plain": [
       "[\n",
       "\tDataModelTable(id='2047642b-f5bb-4791-b289-d37e9fbefa53', data_model_id='ad437bad-a13d-4f31-b247-0760c57ae3b0', name='ML_results_0', alias='ML_results_0', data_pool_id='5656d8b6-63fd-41f0-9e10-6183b71028c9'),\n",
       "\tDataModelTable(id='20f0e200-475d-40e5-a964-f75a7f401c8c', data_model_id='ad437bad-a13d-4f31-b247-0760c57ae3b0', name='rating', alias=None, data_pool_id='5656d8b6-63fd-41f0-9e10-6183b71028c9'),\n",
       "\tDataModelTable(id='79d54b0f-e39e-4aa3-a35d-592f0bb6abc9', data_model_id='ad437bad-a13d-4f31-b247-0760c57ae3b0', name='activities', alias=None, data_pool_id='5656d8b6-63fd-41f0-9e10-6183b71028c9')\n",
       "]"
      ]
     },
     "execution_count": 8,
     "metadata": {},
     "output_type": "execute_result"
    }
   ],
   "source": [
    "data_model.get_tables()"
   ]
  },
  {
   "cell_type": "code",
   "execution_count": 9,
   "id": "f73678b9",
   "metadata": {},
   "outputs": [
    {
     "data": {
      "text/plain": [
       "DataModelTable(id='79d54b0f-e39e-4aa3-a35d-592f0bb6abc9', data_model_id='ad437bad-a13d-4f31-b247-0760c57ae3b0', name='activities', alias=None, data_pool_id='5656d8b6-63fd-41f0-9e10-6183b71028c9')"
      ]
     },
     "execution_count": 9,
     "metadata": {},
     "output_type": "execute_result"
    }
   ],
   "source": [
    "activity_table_id = \"79d54b0f-e39e-4aa3-a35d-592f0bb6abc9\"\n",
    "activity_table = data_model.get_table(activity_table_id)\n",
    "activity_table\n",
    "# activity_table.get_columns()\n",
    "# dir(activity_table)"
   ]
  },
  {
   "cell_type": "code",
   "execution_count": 10,
   "id": "d2397998",
   "metadata": {},
   "outputs": [
    {
     "data": {
      "text/plain": [
       "DataModelTable(id='79d54b0f-e39e-4aa3-a35d-592f0bb6abc9', data_model_id='ad437bad-a13d-4f31-b247-0760c57ae3b0', name='activities', alias=None, data_pool_id='5656d8b6-63fd-41f0-9e10-6183b71028c9')"
      ]
     },
     "execution_count": 10,
     "metadata": {},
     "output_type": "execute_result"
    }
   ],
   "source": [
    "ratings_table_id = \"043caccb-8ced-4c69-8444-cb0146d3bd2b\"\n",
    "ratings_table = data_model.get_table(activity_table_id)\n",
    "ratings_table"
   ]
  },
  {
   "cell_type": "code",
   "execution_count": 11,
   "id": "9c324ee2",
   "metadata": {},
   "outputs": [
    {
     "name": "stdout",
     "output_type": "stream",
     "text": [
      "[2023-06-02 23:18:56,380] INFO: Successfully created data export with id '6b9b9e53-11ff-4aca-894d-bd2cefad0fb7'\n",
      "[2023-06-02 23:18:56,382] INFO: Wait for execution of data export with id '6b9b9e53-11ff-4aca-894d-bd2cefad0fb7'\n"
     ]
    },
    {
     "data": {
      "application/vnd.jupyter.widget-view+json": {
       "model_id": "fbb250e28bc549abb62b10061678c3f7",
       "version_major": 2,
       "version_minor": 0
      },
      "text/plain": [
       "0it [00:00, ?it/s]"
      ]
     },
     "metadata": {},
     "output_type": "display_data"
    },
    {
     "name": "stdout",
     "output_type": "stream",
     "text": [
      "[2023-06-02 23:18:56,459] INFO: Export result chunks for data export with id '6b9b9e53-11ff-4aca-894d-bd2cefad0fb7'\n"
     ]
    },
    {
     "data": {
      "text/html": [
       "<div>\n",
       "<style scoped>\n",
       "    .dataframe tbody tr th:only-of-type {\n",
       "        vertical-align: middle;\n",
       "    }\n",
       "\n",
       "    .dataframe tbody tr th {\n",
       "        vertical-align: top;\n",
       "    }\n",
       "\n",
       "    .dataframe thead th {\n",
       "        text-align: right;\n",
       "    }\n",
       "</style>\n",
       "<table border=\"1\" class=\"dataframe\">\n",
       "  <thead>\n",
       "    <tr style=\"text-align: right;\">\n",
       "      <th></th>\n",
       "      <th>Zeit</th>\n",
       "      <th>Vollständiger Name</th>\n",
       "      <th>Ereigniskontext - Ereignisname</th>\n",
       "    </tr>\n",
       "  </thead>\n",
       "  <tbody>\n",
       "    <tr>\n",
       "      <th>0</th>\n",
       "      <td>2022-09-13 18:48:00</td>\n",
       "      <td>Student1</td>\n",
       "      <td>Test: Quiz 1 - Testversuch gestartet</td>\n",
       "    </tr>\n",
       "    <tr>\n",
       "      <th>1</th>\n",
       "      <td>2022-09-13 19:05:00</td>\n",
       "      <td>Student1</td>\n",
       "      <td>Test: Quiz 1 - Testversuch eingereicht</td>\n",
       "    </tr>\n",
       "    <tr>\n",
       "      <th>2</th>\n",
       "      <td>2022-09-16 11:47:00</td>\n",
       "      <td>Student1</td>\n",
       "      <td>Test: Quiz 1 - Testversuch gestartet</td>\n",
       "    </tr>\n",
       "    <tr>\n",
       "      <th>3</th>\n",
       "      <td>2022-09-16 11:57:00</td>\n",
       "      <td>Student1</td>\n",
       "      <td>Test: Quiz 1 - Testversuch eingereicht</td>\n",
       "    </tr>\n",
       "    <tr>\n",
       "      <th>4</th>\n",
       "      <td>2022-09-16 11:57:00</td>\n",
       "      <td>Student1</td>\n",
       "      <td>Test: Quiz 1 - Testversuch gestartet</td>\n",
       "    </tr>\n",
       "    <tr>\n",
       "      <th>...</th>\n",
       "      <td>...</td>\n",
       "      <td>...</td>\n",
       "      <td>...</td>\n",
       "    </tr>\n",
       "    <tr>\n",
       "      <th>1097</th>\n",
       "      <td>2022-10-19 10:27:00</td>\n",
       "      <td>Student9</td>\n",
       "      <td>Test: Quiz 6 - Testversuch eingereicht</td>\n",
       "    </tr>\n",
       "    <tr>\n",
       "      <th>1098</th>\n",
       "      <td>2022-11-07 15:10:00</td>\n",
       "      <td>Student9</td>\n",
       "      <td>Test: Quiz 7 - Testversuch gestartet</td>\n",
       "    </tr>\n",
       "    <tr>\n",
       "      <th>1099</th>\n",
       "      <td>2022-11-07 15:31:00</td>\n",
       "      <td>Student9</td>\n",
       "      <td>Test: Quiz 7 - Testversuch eingereicht</td>\n",
       "    </tr>\n",
       "    <tr>\n",
       "      <th>1100</th>\n",
       "      <td>2022-11-08 17:51:00</td>\n",
       "      <td>Student9</td>\n",
       "      <td>Test: Exam Attempt 1 - Testversuch gestartet</td>\n",
       "    </tr>\n",
       "    <tr>\n",
       "      <th>1101</th>\n",
       "      <td>2022-11-08 18:32:00</td>\n",
       "      <td>Student9</td>\n",
       "      <td>Test: Exam Attempt 1 - Testversuch eingereicht</td>\n",
       "    </tr>\n",
       "  </tbody>\n",
       "</table>\n",
       "<p>1102 rows × 3 columns</p>\n",
       "</div>"
      ],
      "text/plain": [
       "                    Zeit Vollständiger Name  \\\n",
       "0    2022-09-13 18:48:00           Student1   \n",
       "1    2022-09-13 19:05:00           Student1   \n",
       "2    2022-09-16 11:47:00           Student1   \n",
       "3    2022-09-16 11:57:00           Student1   \n",
       "4    2022-09-16 11:57:00           Student1   \n",
       "...                  ...                ...   \n",
       "1097 2022-10-19 10:27:00           Student9   \n",
       "1098 2022-11-07 15:10:00           Student9   \n",
       "1099 2022-11-07 15:31:00           Student9   \n",
       "1100 2022-11-08 17:51:00           Student9   \n",
       "1101 2022-11-08 18:32:00           Student9   \n",
       "\n",
       "                      Ereigniskontext - Ereignisname  \n",
       "0               Test: Quiz 1 - Testversuch gestartet  \n",
       "1             Test: Quiz 1 - Testversuch eingereicht  \n",
       "2               Test: Quiz 1 - Testversuch gestartet  \n",
       "3             Test: Quiz 1 - Testversuch eingereicht  \n",
       "4               Test: Quiz 1 - Testversuch gestartet  \n",
       "...                                              ...  \n",
       "1097          Test: Quiz 6 - Testversuch eingereicht  \n",
       "1098            Test: Quiz 7 - Testversuch gestartet  \n",
       "1099          Test: Quiz 7 - Testversuch eingereicht  \n",
       "1100    Test: Exam Attempt 1 - Testversuch gestartet  \n",
       "1101  Test: Exam Attempt 1 - Testversuch eingereicht  \n",
       "\n",
       "[1102 rows x 3 columns]"
      ]
     },
     "execution_count": 11,
     "metadata": {},
     "output_type": "execute_result"
    }
   ],
   "source": [
    "query = PQL(distinct=False, limit=None, offset=None)\n",
    "query += PQLColumn(name=\"Zeit\", query=\"\"\" \"ACTIVITIES\".\"zeit\" \"\"\")\n",
    "query += PQLColumn(name=\"Vollständiger Name\", query=\"\"\" \"ACTIVITIES\".\"Vollständiger Name\" \"\"\")\n",
    "query += PQLColumn(name=\"Ereigniskontext - Ereignisname\", query=\"\"\" \"ACTIVITIES\".\"Ereigniskontext - Ereignisname\" \"\"\")\n",
    "\n",
    "activity_df = data_model.export_data_frame(query)\n",
    "activity_df"
   ]
  },
  {
   "cell_type": "code",
   "execution_count": 12,
   "id": "1e359928",
   "metadata": {},
   "outputs": [
    {
     "name": "stdout",
     "output_type": "stream",
     "text": [
      "[2023-06-02 23:18:56,775] INFO: Successfully created data export with id '2ad77176-38c8-4e77-966a-4522e9deb469'\n",
      "[2023-06-02 23:18:56,776] INFO: Wait for execution of data export with id '2ad77176-38c8-4e77-966a-4522e9deb469'\n"
     ]
    },
    {
     "data": {
      "application/vnd.jupyter.widget-view+json": {
       "model_id": "ca148dbb5b7d42e0a9aa8cfa5d689f28",
       "version_major": 2,
       "version_minor": 0
      },
      "text/plain": [
       "0it [00:00, ?it/s]"
      ]
     },
     "metadata": {},
     "output_type": "display_data"
    },
    {
     "name": "stdout",
     "output_type": "stream",
     "text": [
      "[2023-06-02 23:18:58,909] INFO: Export result chunks for data export with id '2ad77176-38c8-4e77-966a-4522e9deb469'\n"
     ]
    },
    {
     "data": {
      "text/html": [
       "<div>\n",
       "<style scoped>\n",
       "    .dataframe tbody tr th:only-of-type {\n",
       "        vertical-align: middle;\n",
       "    }\n",
       "\n",
       "    .dataframe tbody tr th {\n",
       "        vertical-align: top;\n",
       "    }\n",
       "\n",
       "    .dataframe thead th {\n",
       "        text-align: right;\n",
       "    }\n",
       "</style>\n",
       "<table border=\"1\" class=\"dataframe\">\n",
       "  <thead>\n",
       "    <tr style=\"text-align: right;\">\n",
       "      <th></th>\n",
       "      <th>Nr</th>\n",
       "      <th>Test: Quiz 1 (Punkte)</th>\n",
       "      <th>Test: Quiz 2 (Punkte)</th>\n",
       "      <th>Test: Quiz 3 (Punkte)</th>\n",
       "      <th>Test: Quiz 4 (Punkte)</th>\n",
       "      <th>Test: Quiz 5 (Punkte)</th>\n",
       "      <th>Test: Quiz 6 (Punkte)</th>\n",
       "      <th>Test: Quiz 7 (Punkte)</th>\n",
       "      <th>Quiz gesamt (Punkte)</th>\n",
       "      <th>Test: Exam Attempt 1 (Punkte)</th>\n",
       "      <th>Kurs gesamt (Punkte)</th>\n",
       "      <th>Name</th>\n",
       "    </tr>\n",
       "  </thead>\n",
       "  <tbody>\n",
       "    <tr>\n",
       "      <th>0</th>\n",
       "      <td>0</td>\n",
       "      <td>10.0</td>\n",
       "      <td>11.0</td>\n",
       "      <td>10.0</td>\n",
       "      <td>12.0</td>\n",
       "      <td>8.6</td>\n",
       "      <td>11.0</td>\n",
       "      <td>7.0</td>\n",
       "      <td>46.65</td>\n",
       "      <td>50.0</td>\n",
       "      <td>97.32</td>\n",
       "      <td>Student27</td>\n",
       "    </tr>\n",
       "    <tr>\n",
       "      <th>1</th>\n",
       "      <td>1</td>\n",
       "      <td>9.1</td>\n",
       "      <td>10.8</td>\n",
       "      <td>7.7</td>\n",
       "      <td>7.7</td>\n",
       "      <td>0.0</td>\n",
       "      <td>6.1</td>\n",
       "      <td>4.0</td>\n",
       "      <td>30.37</td>\n",
       "      <td>47.5</td>\n",
       "      <td>81.30</td>\n",
       "      <td>Student18</td>\n",
       "    </tr>\n",
       "    <tr>\n",
       "      <th>2</th>\n",
       "      <td>3</td>\n",
       "      <td>10.0</td>\n",
       "      <td>11.0</td>\n",
       "      <td>10.0</td>\n",
       "      <td>12.0</td>\n",
       "      <td>13.4</td>\n",
       "      <td>10.5</td>\n",
       "      <td>4.0</td>\n",
       "      <td>46.78</td>\n",
       "      <td>35.0</td>\n",
       "      <td>79.42</td>\n",
       "      <td>Student33</td>\n",
       "    </tr>\n",
       "    <tr>\n",
       "      <th>3</th>\n",
       "      <td>4</td>\n",
       "      <td>10.0</td>\n",
       "      <td>11.0</td>\n",
       "      <td>10.0</td>\n",
       "      <td>10.9</td>\n",
       "      <td>13.8</td>\n",
       "      <td>11.0</td>\n",
       "      <td>7.0</td>\n",
       "      <td>49.08</td>\n",
       "      <td>28.0</td>\n",
       "      <td>72.86</td>\n",
       "      <td>Student34</td>\n",
       "    </tr>\n",
       "    <tr>\n",
       "      <th>4</th>\n",
       "      <td>5</td>\n",
       "      <td>10.0</td>\n",
       "      <td>11.0</td>\n",
       "      <td>10.0</td>\n",
       "      <td>12.0</td>\n",
       "      <td>14.0</td>\n",
       "      <td>11.0</td>\n",
       "      <td>7.0</td>\n",
       "      <td>50.00</td>\n",
       "      <td>47.5</td>\n",
       "      <td>97.00</td>\n",
       "      <td>Student1</td>\n",
       "    </tr>\n",
       "    <tr>\n",
       "      <th>5</th>\n",
       "      <td>6</td>\n",
       "      <td>9.7</td>\n",
       "      <td>11.0</td>\n",
       "      <td>10.0</td>\n",
       "      <td>12.0</td>\n",
       "      <td>14.0</td>\n",
       "      <td>11.0</td>\n",
       "      <td>7.0</td>\n",
       "      <td>49.78</td>\n",
       "      <td>32.0</td>\n",
       "      <td>78.23</td>\n",
       "      <td>Student11</td>\n",
       "    </tr>\n",
       "    <tr>\n",
       "      <th>6</th>\n",
       "      <td>7</td>\n",
       "      <td>10.0</td>\n",
       "      <td>11.0</td>\n",
       "      <td>10.0</td>\n",
       "      <td>8.8</td>\n",
       "      <td>0.0</td>\n",
       "      <td>0.0</td>\n",
       "      <td>0.0</td>\n",
       "      <td>25.22</td>\n",
       "      <td>0.0</td>\n",
       "      <td>20.17</td>\n",
       "      <td>Student15</td>\n",
       "    </tr>\n",
       "    <tr>\n",
       "      <th>7</th>\n",
       "      <td>8</td>\n",
       "      <td>9.5</td>\n",
       "      <td>11.0</td>\n",
       "      <td>10.0</td>\n",
       "      <td>11.0</td>\n",
       "      <td>13.1</td>\n",
       "      <td>10.7</td>\n",
       "      <td>1.0</td>\n",
       "      <td>43.17</td>\n",
       "      <td>48.0</td>\n",
       "      <td>92.13</td>\n",
       "      <td>Student37</td>\n",
       "    </tr>\n",
       "    <tr>\n",
       "      <th>8</th>\n",
       "      <td>9</td>\n",
       "      <td>7.8</td>\n",
       "      <td>9.4</td>\n",
       "      <td>9.1</td>\n",
       "      <td>11.7</td>\n",
       "      <td>10.3</td>\n",
       "      <td>9.0</td>\n",
       "      <td>3.9</td>\n",
       "      <td>40.43</td>\n",
       "      <td>46.7</td>\n",
       "      <td>88.38</td>\n",
       "      <td>Student25</td>\n",
       "    </tr>\n",
       "    <tr>\n",
       "      <th>9</th>\n",
       "      <td>10</td>\n",
       "      <td>10.0</td>\n",
       "      <td>11.0</td>\n",
       "      <td>10.0</td>\n",
       "      <td>12.0</td>\n",
       "      <td>14.0</td>\n",
       "      <td>11.0</td>\n",
       "      <td>7.0</td>\n",
       "      <td>50.00</td>\n",
       "      <td>50.0</td>\n",
       "      <td>100.00</td>\n",
       "      <td>Student29</td>\n",
       "    </tr>\n",
       "    <tr>\n",
       "      <th>10</th>\n",
       "      <td>11</td>\n",
       "      <td>10.0</td>\n",
       "      <td>11.0</td>\n",
       "      <td>9.2</td>\n",
       "      <td>10.7</td>\n",
       "      <td>11.7</td>\n",
       "      <td>10.0</td>\n",
       "      <td>3.0</td>\n",
       "      <td>43.24</td>\n",
       "      <td>43.0</td>\n",
       "      <td>86.20</td>\n",
       "      <td>Student9</td>\n",
       "    </tr>\n",
       "    <tr>\n",
       "      <th>11</th>\n",
       "      <td>12</td>\n",
       "      <td>10.0</td>\n",
       "      <td>11.0</td>\n",
       "      <td>10.0</td>\n",
       "      <td>12.0</td>\n",
       "      <td>14.0</td>\n",
       "      <td>11.0</td>\n",
       "      <td>7.0</td>\n",
       "      <td>50.00</td>\n",
       "      <td>48.0</td>\n",
       "      <td>97.60</td>\n",
       "      <td>Student24</td>\n",
       "    </tr>\n",
       "    <tr>\n",
       "      <th>12</th>\n",
       "      <td>13</td>\n",
       "      <td>10.0</td>\n",
       "      <td>11.0</td>\n",
       "      <td>10.0</td>\n",
       "      <td>12.0</td>\n",
       "      <td>14.0</td>\n",
       "      <td>11.0</td>\n",
       "      <td>7.0</td>\n",
       "      <td>50.00</td>\n",
       "      <td>46.0</td>\n",
       "      <td>95.20</td>\n",
       "      <td>Student14</td>\n",
       "    </tr>\n",
       "    <tr>\n",
       "      <th>13</th>\n",
       "      <td>14</td>\n",
       "      <td>10.0</td>\n",
       "      <td>11.0</td>\n",
       "      <td>10.0</td>\n",
       "      <td>9.0</td>\n",
       "      <td>12.0</td>\n",
       "      <td>9.0</td>\n",
       "      <td>7.0</td>\n",
       "      <td>45.13</td>\n",
       "      <td>36.0</td>\n",
       "      <td>79.31</td>\n",
       "      <td>Student30</td>\n",
       "    </tr>\n",
       "    <tr>\n",
       "      <th>14</th>\n",
       "      <td>15</td>\n",
       "      <td>10.0</td>\n",
       "      <td>11.0</td>\n",
       "      <td>10.0</td>\n",
       "      <td>12.0</td>\n",
       "      <td>13.7</td>\n",
       "      <td>11.0</td>\n",
       "      <td>6.7</td>\n",
       "      <td>49.57</td>\n",
       "      <td>48.0</td>\n",
       "      <td>97.25</td>\n",
       "      <td>Student36</td>\n",
       "    </tr>\n",
       "    <tr>\n",
       "      <th>15</th>\n",
       "      <td>16</td>\n",
       "      <td>10.0</td>\n",
       "      <td>11.0</td>\n",
       "      <td>10.0</td>\n",
       "      <td>12.0</td>\n",
       "      <td>14.0</td>\n",
       "      <td>11.0</td>\n",
       "      <td>7.0</td>\n",
       "      <td>50.00</td>\n",
       "      <td>50.0</td>\n",
       "      <td>100.00</td>\n",
       "      <td>Student19</td>\n",
       "    </tr>\n",
       "    <tr>\n",
       "      <th>16</th>\n",
       "      <td>17</td>\n",
       "      <td>10.0</td>\n",
       "      <td>11.0</td>\n",
       "      <td>10.0</td>\n",
       "      <td>11.0</td>\n",
       "      <td>13.8</td>\n",
       "      <td>10.8</td>\n",
       "      <td>4.0</td>\n",
       "      <td>46.52</td>\n",
       "      <td>48.0</td>\n",
       "      <td>94.82</td>\n",
       "      <td>Student35</td>\n",
       "    </tr>\n",
       "    <tr>\n",
       "      <th>17</th>\n",
       "      <td>18</td>\n",
       "      <td>10.0</td>\n",
       "      <td>11.0</td>\n",
       "      <td>10.0</td>\n",
       "      <td>12.0</td>\n",
       "      <td>12.0</td>\n",
       "      <td>11.0</td>\n",
       "      <td>7.0</td>\n",
       "      <td>48.76</td>\n",
       "      <td>17.0</td>\n",
       "      <td>59.41</td>\n",
       "      <td>Student22</td>\n",
       "    </tr>\n",
       "    <tr>\n",
       "      <th>18</th>\n",
       "      <td>19</td>\n",
       "      <td>10.0</td>\n",
       "      <td>11.0</td>\n",
       "      <td>10.0</td>\n",
       "      <td>11.0</td>\n",
       "      <td>14.0</td>\n",
       "      <td>10.2</td>\n",
       "      <td>6.2</td>\n",
       "      <td>48.03</td>\n",
       "      <td>45.0</td>\n",
       "      <td>92.43</td>\n",
       "      <td>Student5</td>\n",
       "    </tr>\n",
       "    <tr>\n",
       "      <th>19</th>\n",
       "      <td>20</td>\n",
       "      <td>10.0</td>\n",
       "      <td>11.0</td>\n",
       "      <td>10.0</td>\n",
       "      <td>12.0</td>\n",
       "      <td>14.0</td>\n",
       "      <td>11.0</td>\n",
       "      <td>7.0</td>\n",
       "      <td>50.00</td>\n",
       "      <td>33.0</td>\n",
       "      <td>79.60</td>\n",
       "      <td>Student21</td>\n",
       "    </tr>\n",
       "    <tr>\n",
       "      <th>20</th>\n",
       "      <td>21</td>\n",
       "      <td>10.0</td>\n",
       "      <td>10.8</td>\n",
       "      <td>10.0</td>\n",
       "      <td>12.0</td>\n",
       "      <td>13.8</td>\n",
       "      <td>9.8</td>\n",
       "      <td>6.7</td>\n",
       "      <td>48.63</td>\n",
       "      <td>50.0</td>\n",
       "      <td>98.90</td>\n",
       "      <td>Student23</td>\n",
       "    </tr>\n",
       "    <tr>\n",
       "      <th>21</th>\n",
       "      <td>22</td>\n",
       "      <td>0.0</td>\n",
       "      <td>0.0</td>\n",
       "      <td>0.0</td>\n",
       "      <td>0.0</td>\n",
       "      <td>0.0</td>\n",
       "      <td>0.0</td>\n",
       "      <td>0.0</td>\n",
       "      <td>0.00</td>\n",
       "      <td>0.0</td>\n",
       "      <td>0.00</td>\n",
       "      <td>Student7</td>\n",
       "    </tr>\n",
       "    <tr>\n",
       "      <th>22</th>\n",
       "      <td>23</td>\n",
       "      <td>10.0</td>\n",
       "      <td>11.0</td>\n",
       "      <td>10.0</td>\n",
       "      <td>11.6</td>\n",
       "      <td>13.8</td>\n",
       "      <td>11.0</td>\n",
       "      <td>7.0</td>\n",
       "      <td>49.59</td>\n",
       "      <td>44.0</td>\n",
       "      <td>92.47</td>\n",
       "      <td>Student26</td>\n",
       "    </tr>\n",
       "    <tr>\n",
       "      <th>23</th>\n",
       "      <td>24</td>\n",
       "      <td>10.0</td>\n",
       "      <td>11.0</td>\n",
       "      <td>10.0</td>\n",
       "      <td>12.0</td>\n",
       "      <td>14.0</td>\n",
       "      <td>1.0</td>\n",
       "      <td>7.0</td>\n",
       "      <td>42.75</td>\n",
       "      <td>50.0</td>\n",
       "      <td>94.20</td>\n",
       "      <td>Student6</td>\n",
       "    </tr>\n",
       "    <tr>\n",
       "      <th>24</th>\n",
       "      <td>25</td>\n",
       "      <td>10.0</td>\n",
       "      <td>11.0</td>\n",
       "      <td>10.0</td>\n",
       "      <td>12.0</td>\n",
       "      <td>14.0</td>\n",
       "      <td>11.0</td>\n",
       "      <td>7.0</td>\n",
       "      <td>50.00</td>\n",
       "      <td>50.0</td>\n",
       "      <td>100.00</td>\n",
       "      <td>Student32</td>\n",
       "    </tr>\n",
       "    <tr>\n",
       "      <th>25</th>\n",
       "      <td>26</td>\n",
       "      <td>10.0</td>\n",
       "      <td>10.0</td>\n",
       "      <td>10.0</td>\n",
       "      <td>12.0</td>\n",
       "      <td>14.0</td>\n",
       "      <td>11.0</td>\n",
       "      <td>7.0</td>\n",
       "      <td>49.34</td>\n",
       "      <td>32.5</td>\n",
       "      <td>78.47</td>\n",
       "      <td>Student13</td>\n",
       "    </tr>\n",
       "    <tr>\n",
       "      <th>26</th>\n",
       "      <td>27</td>\n",
       "      <td>10.0</td>\n",
       "      <td>11.0</td>\n",
       "      <td>10.0</td>\n",
       "      <td>12.0</td>\n",
       "      <td>0.0</td>\n",
       "      <td>0.0</td>\n",
       "      <td>0.0</td>\n",
       "      <td>27.54</td>\n",
       "      <td>0.0</td>\n",
       "      <td>22.03</td>\n",
       "      <td>Student28</td>\n",
       "    </tr>\n",
       "    <tr>\n",
       "      <th>27</th>\n",
       "      <td>28</td>\n",
       "      <td>10.0</td>\n",
       "      <td>11.0</td>\n",
       "      <td>10.0</td>\n",
       "      <td>12.0</td>\n",
       "      <td>13.7</td>\n",
       "      <td>11.0</td>\n",
       "      <td>7.0</td>\n",
       "      <td>49.81</td>\n",
       "      <td>40.0</td>\n",
       "      <td>87.85</td>\n",
       "      <td>Student8</td>\n",
       "    </tr>\n",
       "    <tr>\n",
       "      <th>28</th>\n",
       "      <td>29</td>\n",
       "      <td>10.0</td>\n",
       "      <td>11.0</td>\n",
       "      <td>10.0</td>\n",
       "      <td>11.6</td>\n",
       "      <td>14.0</td>\n",
       "      <td>10.8</td>\n",
       "      <td>7.0</td>\n",
       "      <td>49.57</td>\n",
       "      <td>27.0</td>\n",
       "      <td>72.05</td>\n",
       "      <td>Student16</td>\n",
       "    </tr>\n",
       "    <tr>\n",
       "      <th>29</th>\n",
       "      <td>30</td>\n",
       "      <td>10.0</td>\n",
       "      <td>11.0</td>\n",
       "      <td>10.0</td>\n",
       "      <td>12.0</td>\n",
       "      <td>14.0</td>\n",
       "      <td>11.0</td>\n",
       "      <td>7.0</td>\n",
       "      <td>50.00</td>\n",
       "      <td>31.0</td>\n",
       "      <td>77.20</td>\n",
       "      <td>Student31</td>\n",
       "    </tr>\n",
       "  </tbody>\n",
       "</table>\n",
       "</div>"
      ],
      "text/plain": [
       "    Nr  Test: Quiz 1 (Punkte)  Test: Quiz 2 (Punkte)  Test: Quiz 3 (Punkte)  \\\n",
       "0    0                   10.0                   11.0                   10.0   \n",
       "1    1                    9.1                   10.8                    7.7   \n",
       "2    3                   10.0                   11.0                   10.0   \n",
       "3    4                   10.0                   11.0                   10.0   \n",
       "4    5                   10.0                   11.0                   10.0   \n",
       "5    6                    9.7                   11.0                   10.0   \n",
       "6    7                   10.0                   11.0                   10.0   \n",
       "7    8                    9.5                   11.0                   10.0   \n",
       "8    9                    7.8                    9.4                    9.1   \n",
       "9   10                   10.0                   11.0                   10.0   \n",
       "10  11                   10.0                   11.0                    9.2   \n",
       "11  12                   10.0                   11.0                   10.0   \n",
       "12  13                   10.0                   11.0                   10.0   \n",
       "13  14                   10.0                   11.0                   10.0   \n",
       "14  15                   10.0                   11.0                   10.0   \n",
       "15  16                   10.0                   11.0                   10.0   \n",
       "16  17                   10.0                   11.0                   10.0   \n",
       "17  18                   10.0                   11.0                   10.0   \n",
       "18  19                   10.0                   11.0                   10.0   \n",
       "19  20                   10.0                   11.0                   10.0   \n",
       "20  21                   10.0                   10.8                   10.0   \n",
       "21  22                    0.0                    0.0                    0.0   \n",
       "22  23                   10.0                   11.0                   10.0   \n",
       "23  24                   10.0                   11.0                   10.0   \n",
       "24  25                   10.0                   11.0                   10.0   \n",
       "25  26                   10.0                   10.0                   10.0   \n",
       "26  27                   10.0                   11.0                   10.0   \n",
       "27  28                   10.0                   11.0                   10.0   \n",
       "28  29                   10.0                   11.0                   10.0   \n",
       "29  30                   10.0                   11.0                   10.0   \n",
       "\n",
       "    Test: Quiz 4 (Punkte)  Test: Quiz 5 (Punkte)  Test: Quiz 6 (Punkte)  \\\n",
       "0                    12.0                    8.6                   11.0   \n",
       "1                     7.7                    0.0                    6.1   \n",
       "2                    12.0                   13.4                   10.5   \n",
       "3                    10.9                   13.8                   11.0   \n",
       "4                    12.0                   14.0                   11.0   \n",
       "5                    12.0                   14.0                   11.0   \n",
       "6                     8.8                    0.0                    0.0   \n",
       "7                    11.0                   13.1                   10.7   \n",
       "8                    11.7                   10.3                    9.0   \n",
       "9                    12.0                   14.0                   11.0   \n",
       "10                   10.7                   11.7                   10.0   \n",
       "11                   12.0                   14.0                   11.0   \n",
       "12                   12.0                   14.0                   11.0   \n",
       "13                    9.0                   12.0                    9.0   \n",
       "14                   12.0                   13.7                   11.0   \n",
       "15                   12.0                   14.0                   11.0   \n",
       "16                   11.0                   13.8                   10.8   \n",
       "17                   12.0                   12.0                   11.0   \n",
       "18                   11.0                   14.0                   10.2   \n",
       "19                   12.0                   14.0                   11.0   \n",
       "20                   12.0                   13.8                    9.8   \n",
       "21                    0.0                    0.0                    0.0   \n",
       "22                   11.6                   13.8                   11.0   \n",
       "23                   12.0                   14.0                    1.0   \n",
       "24                   12.0                   14.0                   11.0   \n",
       "25                   12.0                   14.0                   11.0   \n",
       "26                   12.0                    0.0                    0.0   \n",
       "27                   12.0                   13.7                   11.0   \n",
       "28                   11.6                   14.0                   10.8   \n",
       "29                   12.0                   14.0                   11.0   \n",
       "\n",
       "    Test: Quiz 7 (Punkte)  Quiz gesamt (Punkte)  \\\n",
       "0                     7.0                 46.65   \n",
       "1                     4.0                 30.37   \n",
       "2                     4.0                 46.78   \n",
       "3                     7.0                 49.08   \n",
       "4                     7.0                 50.00   \n",
       "5                     7.0                 49.78   \n",
       "6                     0.0                 25.22   \n",
       "7                     1.0                 43.17   \n",
       "8                     3.9                 40.43   \n",
       "9                     7.0                 50.00   \n",
       "10                    3.0                 43.24   \n",
       "11                    7.0                 50.00   \n",
       "12                    7.0                 50.00   \n",
       "13                    7.0                 45.13   \n",
       "14                    6.7                 49.57   \n",
       "15                    7.0                 50.00   \n",
       "16                    4.0                 46.52   \n",
       "17                    7.0                 48.76   \n",
       "18                    6.2                 48.03   \n",
       "19                    7.0                 50.00   \n",
       "20                    6.7                 48.63   \n",
       "21                    0.0                  0.00   \n",
       "22                    7.0                 49.59   \n",
       "23                    7.0                 42.75   \n",
       "24                    7.0                 50.00   \n",
       "25                    7.0                 49.34   \n",
       "26                    0.0                 27.54   \n",
       "27                    7.0                 49.81   \n",
       "28                    7.0                 49.57   \n",
       "29                    7.0                 50.00   \n",
       "\n",
       "    Test: Exam Attempt 1 (Punkte)  Kurs gesamt (Punkte)       Name  \n",
       "0                            50.0                 97.32  Student27  \n",
       "1                            47.5                 81.30  Student18  \n",
       "2                            35.0                 79.42  Student33  \n",
       "3                            28.0                 72.86  Student34  \n",
       "4                            47.5                 97.00   Student1  \n",
       "5                            32.0                 78.23  Student11  \n",
       "6                             0.0                 20.17  Student15  \n",
       "7                            48.0                 92.13  Student37  \n",
       "8                            46.7                 88.38  Student25  \n",
       "9                            50.0                100.00  Student29  \n",
       "10                           43.0                 86.20   Student9  \n",
       "11                           48.0                 97.60  Student24  \n",
       "12                           46.0                 95.20  Student14  \n",
       "13                           36.0                 79.31  Student30  \n",
       "14                           48.0                 97.25  Student36  \n",
       "15                           50.0                100.00  Student19  \n",
       "16                           48.0                 94.82  Student35  \n",
       "17                           17.0                 59.41  Student22  \n",
       "18                           45.0                 92.43   Student5  \n",
       "19                           33.0                 79.60  Student21  \n",
       "20                           50.0                 98.90  Student23  \n",
       "21                            0.0                  0.00   Student7  \n",
       "22                           44.0                 92.47  Student26  \n",
       "23                           50.0                 94.20   Student6  \n",
       "24                           50.0                100.00  Student32  \n",
       "25                           32.5                 78.47  Student13  \n",
       "26                            0.0                 22.03  Student28  \n",
       "27                           40.0                 87.85   Student8  \n",
       "28                           27.0                 72.05  Student16  \n",
       "29                           31.0                 77.20  Student31  "
      ]
     },
     "execution_count": 12,
     "metadata": {},
     "output_type": "execute_result"
    }
   ],
   "source": [
    "query = PQL(distinct=False, limit=None, offset=None)\n",
    "query += PQLColumn(name=\"Nr\", query=\"\"\" \"RATING\".\"Nr\" \"\"\")\n",
    "query += PQLColumn(name=\"Test: Quiz 1 (Punkte)\", query=\"\"\" \"RATING\".\"Test: Quiz 1 (Punkte)\" \"\"\")\n",
    "query += PQLColumn(name=\"Test: Quiz 2 (Punkte)\", query=\"\"\" \"RATING\".\"Test: Quiz 2 (Punkte)\" \"\"\")\n",
    "query += PQLColumn(name=\"Test: Quiz 3 (Punkte)\", query=\"\"\" \"RATING\".\"Test: Quiz 3 (Punkte)\" \"\"\")\n",
    "query += PQLColumn(name=\"Test: Quiz 4 (Punkte)\", query=\"\"\" \"RATING\".\"Test: Quiz 4 (Punkte)\" \"\"\")\n",
    "query += PQLColumn(name=\"Test: Quiz 5 (Punkte)\", query=\"\"\" \"RATING\".\"Test: Quiz 5 (Punkte)\" \"\"\")\n",
    "query += PQLColumn(name=\"Test: Quiz 6 (Punkte)\", query=\"\"\" \"RATING\".\"Test: Quiz 6 (Punkte)\" \"\"\")\n",
    "query += PQLColumn(name=\"Test: Quiz 7 (Punkte)\", query=\"\"\" \"RATING\".\"Test: Quiz 7 (Punkte)\" \"\"\")\n",
    "query += PQLColumn(name=\"Quiz gesamt (Punkte)\", query=\"\"\" \"RATING\".\"Quiz gesamt (Punkte)\" \"\"\")\n",
    "query += PQLColumn(name=\"Test: Exam Attempt 1 (Punkte)\", query=\"\"\" \"RATING\".\"Test: Exam Attempt 1 (Punkte)\" \"\"\")\n",
    "query += PQLColumn(name=\"Kurs gesamt (Punkte)\", query=\"\"\" \"RATING\".\"Kurs gesamt (Punkte)\" \"\"\")\n",
    "query += PQLColumn(name=\"Name\", query=\"\"\" \"RATING\".\"Name\" \"\"\")\n",
    "\n",
    "rating_df = data_model.export_data_frame(query)\n",
    "rating_df"
   ]
  },
  {
   "cell_type": "code",
   "execution_count": 13,
   "id": "edb4e13f",
   "metadata": {},
   "outputs": [],
   "source": [
    "import pandas as pd\n",
    "import numpy as np\n",
    "import matplotlib.pyplot as plt\n",
    "from sklearn.model_selection import train_test_split\n",
    "from sklearn.preprocessing import MinMaxScaler\n",
    "from sklearn.neighbors import KNeighborsClassifier, KNeighborsRegressor\n",
    "from sklearn.metrics import mean_absolute_error, mean_squared_error, median_absolute_error\n",
    "from sklearn.linear_model import LinearRegression\n",
    "from sklearn.tree import DecisionTreeRegressor\n"
   ]
  },
  {
   "cell_type": "code",
   "execution_count": 14,
   "id": "0383923a",
   "metadata": {},
   "outputs": [
    {
     "name": "stdout",
     "output_type": "stream",
     "text": [
      "[27.44]\n",
      "[27.44]\n"
     ]
    }
   ],
   "source": [
    "# read the data\n",
    "df = rating_df\n",
    "\n",
    "\n",
    "df = df.drop([\"Quiz gesamt (Punkte)\",], axis=1)\n",
    "\n",
    "# extract X,y arrays\n",
    "quiz_columns = [string for string in df.columns if \"Quiz\" in string and \"gesamt\" not in string]\n",
    "X = df[quiz_columns].astype(float)\n",
    "y_test = df[\"Test: Exam Attempt 1 (Punkte)\"].astype(float)\n",
    "y_total = df[\"Kurs gesamt (Punkte)\"].astype(float)\n",
    "\n",
    "# scale X\n",
    "mmSc = MinMaxScaler()\n",
    "X = mmSc.fit_transform(X)\n",
    "\n",
    "# split into train and test\n",
    "X_train_test, X_test_test, y_train_test, y_test_test = train_test_split(X, y_test, test_size=0.2, shuffle=False)\n",
    "X_train_total, X_test_total, y_train_total, y_test_total = train_test_split(X, y_total, test_size=0.2, shuffle=False)\n",
    "collector = []\n",
    "\n",
    "# perform KNN for k in (1,15)\n",
    "\"\"\"for k in range(1, 15):\n",
    "    knn = KNeighborsRegressor(k).fit(X_train, y_train)\n",
    "    y_predict = knn.predict(X_test)\n",
    "\n",
    "    collector.append({\"k\": k,\n",
    "                      \"mea\": mean_absolute_error(y_test, y_predict),\n",
    "                      \"rmse\": mean_squared_error(y_test, y_predict),\n",
    "                      \"medae\": median_absolute_error(y_test, y_predict)\n",
    "                      })\n",
    "\n",
    "result = pd.DataFrame(collector)\n",
    "print(result)\"\"\"\n",
    "\n",
    "# try to predict X with all 0.0\n",
    "knn_test = KNeighborsRegressor(5).fit(X_train_test, y_train_test)\n",
    "knn_total = KNeighborsRegressor(5).fit(X_train_total, y_train_total)\n",
    "# reg = LinearRegression().fit(X_train, y_train)\n",
    "x_toPredict = [0.0, 0.0, 0.0, 0.0, 0.0, 0.0, 0.0]\n",
    "predict_zero = knn_test.predict([x_toPredict])\n",
    "# predict_zero = reg.predict([x_toPredict])\n",
    "print(predict_zero)\n",
    "# total_points = knn_total.predict([x_toPredict])\n",
    "total_points = sum(x_toPredict) + predict_zero\n",
    "print(total_points)\n",
    "\n",
    "# print(predict_zero >= 30.0)\n",
    "# predict_zero = 30.0\n",
    "\n",
    "\n"
   ]
  },
  {
   "cell_type": "code",
   "execution_count": 15,
   "id": "a368ccb4",
   "metadata": {},
   "outputs": [
    {
     "data": {
      "image/png": "[encoded data removed]",
      "text/plain": [
       "<Figure size 640x480 with 1 Axes>"
      ]
     },
     "metadata": {},
     "output_type": "display_data"
    }
   ],
   "source": [
    "pd.set_option('display.max_rows', None)  # Show all rows\n",
    "pd.set_option('display.max_columns', None)  # Show all columns\n",
    "pd.set_option('display.width', None)\n",
    "df = activity_df\n",
    "\"\"\"\n",
    "dfs = {}\n",
    "for name in activity_df['Vollständiger Name'].unique():\n",
    "    dfs[name] = activity_df[activity_df['Vollständiger Name'] == name].reset_index(drop=True)\n",
    "dfs['Student2']\n",
    "\"\"\"\n",
    "name_counts = df.groupby('Vollständiger Name').size().reset_index(name='activity_count')\n",
    "activity_count_df = pd.DataFrame({'name': name_counts['Vollständiger Name'], 'activity_count': name_counts['activity_count']})\n",
    "rating_name_df = rating_df[['Kurs gesamt (Punkte)', 'Name']].copy()\n",
    "activity_count_df.rename(columns={'Vollständiger Name': 'Name'}, inplace=True)\n",
    "rating_name_df.rename(columns={'Name': 'name'}, inplace=True)\n",
    "merged = pd.merge(activity_count_df, rating_name_df, on='name', how='left')\n",
    "merged.fillna(0.0, inplace=True)\n",
    "X = np.array(merged['activity_count']).reshape(-1, 1)\n",
    "y = merged['Kurs gesamt (Punkte)']\n",
    "reg = LinearRegression().fit(X, y)\n",
    "y_hat = reg.predict(X)\n",
    "plt.scatter(X, y, color='blue', marker='o', label='True Points')\n",
    "# plt.scatter(X, y_hat, color='red', marker='x', label='Predicted Points')\n",
    "plt.plot(X, y_hat, color=\"red\")\n",
    "activity_predict_zero_total = reg.predict([[0.0]])\n",
    "activity_predict_zero_total = activity_predict_zero_total[0]"
   ]
  },
  {
   "cell_type": "code",
   "execution_count": 23,
   "id": "0888a09b",
   "metadata": {},
   "outputs": [
    {
     "name": "stdout",
     "output_type": "stream",
     "text": [
      "[0.]\n",
      "[93.325]\n"
     ]
    },
    {
     "ename": "ValueError",
     "evalue": "Found input variables with inconsistent numbers of samples: [32, 30]",
     "output_type": "error",
     "traceback": [
      "\u001b[0;31m---------------------------------------------------------------------------\u001b[0m",
      "\u001b[0;31mValueError\u001b[0m                                Traceback (most recent call last)",
      "Input \u001b[0;32mIn [23]\u001b[0m, in \u001b[0;36m<cell line: 18>\u001b[0;34m()\u001b[0m\n\u001b[1;32m     16\u001b[0m x_toPredict \u001b[38;5;241m=\u001b[39m [\u001b[38;5;241m10.0\u001b[39m, \u001b[38;5;241m11.0\u001b[39m, \u001b[38;5;241m10.0\u001b[39m, \u001b[38;5;241m12.0\u001b[39m, \u001b[38;5;241m14.0\u001b[39m, \u001b[38;5;241m11.0\u001b[39m, \u001b[38;5;241m7.0\u001b[39m]\n\u001b[1;32m     17\u001b[0m \u001b[38;5;28mprint\u001b[39m(tree_reg\u001b[38;5;241m.\u001b[39mpredict([x_toPredict]))\n\u001b[0;32m---> 18\u001b[0m \u001b[38;5;28mprint\u001b[39m(\u001b[43mmean_squared_error\u001b[49m\u001b[43m(\u001b[49m\u001b[43my\u001b[49m\u001b[43m,\u001b[49m\u001b[43m \u001b[49m\u001b[43my_pred\u001b[49m\u001b[43m)\u001b[49m)\n",
      "File \u001b[0;32m/opt/conda/lib/python3.8/site-packages/sklearn/utils/validation.py:63\u001b[0m, in \u001b[0;36m_deprecate_positional_args.<locals>._inner_deprecate_positional_args.<locals>.inner_f\u001b[0;34m(*args, **kwargs)\u001b[0m\n\u001b[1;32m     61\u001b[0m extra_args \u001b[38;5;241m=\u001b[39m \u001b[38;5;28mlen\u001b[39m(args) \u001b[38;5;241m-\u001b[39m \u001b[38;5;28mlen\u001b[39m(all_args)\n\u001b[1;32m     62\u001b[0m \u001b[38;5;28;01mif\u001b[39;00m extra_args \u001b[38;5;241m<\u001b[39m\u001b[38;5;241m=\u001b[39m \u001b[38;5;241m0\u001b[39m:\n\u001b[0;32m---> 63\u001b[0m     \u001b[38;5;28;01mreturn\u001b[39;00m \u001b[43mf\u001b[49m\u001b[43m(\u001b[49m\u001b[38;5;241;43m*\u001b[39;49m\u001b[43margs\u001b[49m\u001b[43m,\u001b[49m\u001b[43m \u001b[49m\u001b[38;5;241;43m*\u001b[39;49m\u001b[38;5;241;43m*\u001b[39;49m\u001b[43mkwargs\u001b[49m\u001b[43m)\u001b[49m\n\u001b[1;32m     65\u001b[0m \u001b[38;5;66;03m# extra_args > 0\u001b[39;00m\n\u001b[1;32m     66\u001b[0m args_msg \u001b[38;5;241m=\u001b[39m [\u001b[38;5;124m'\u001b[39m\u001b[38;5;132;01m{}\u001b[39;00m\u001b[38;5;124m=\u001b[39m\u001b[38;5;132;01m{}\u001b[39;00m\u001b[38;5;124m'\u001b[39m\u001b[38;5;241m.\u001b[39mformat(name, arg)\n\u001b[1;32m     67\u001b[0m             \u001b[38;5;28;01mfor\u001b[39;00m name, arg \u001b[38;5;129;01min\u001b[39;00m \u001b[38;5;28mzip\u001b[39m(kwonly_args[:extra_args],\n\u001b[1;32m     68\u001b[0m                                  args[\u001b[38;5;241m-\u001b[39mextra_args:])]\n",
      "File \u001b[0;32m/opt/conda/lib/python3.8/site-packages/sklearn/metrics/_regression.py:335\u001b[0m, in \u001b[0;36mmean_squared_error\u001b[0;34m(y_true, y_pred, sample_weight, multioutput, squared)\u001b[0m\n\u001b[1;32m    274\u001b[0m \u001b[38;5;129m@_deprecate_positional_args\u001b[39m\n\u001b[1;32m    275\u001b[0m \u001b[38;5;28;01mdef\u001b[39;00m \u001b[38;5;21mmean_squared_error\u001b[39m(y_true, y_pred, \u001b[38;5;241m*\u001b[39m,\n\u001b[1;32m    276\u001b[0m                        sample_weight\u001b[38;5;241m=\u001b[39m\u001b[38;5;28;01mNone\u001b[39;00m,\n\u001b[1;32m    277\u001b[0m                        multioutput\u001b[38;5;241m=\u001b[39m\u001b[38;5;124m'\u001b[39m\u001b[38;5;124muniform_average\u001b[39m\u001b[38;5;124m'\u001b[39m, squared\u001b[38;5;241m=\u001b[39m\u001b[38;5;28;01mTrue\u001b[39;00m):\n\u001b[1;32m    278\u001b[0m \u001b[38;5;250m    \u001b[39m\u001b[38;5;124;03m\"\"\"Mean squared error regression loss.\u001b[39;00m\n\u001b[1;32m    279\u001b[0m \n\u001b[1;32m    280\u001b[0m \u001b[38;5;124;03m    Read more in the :ref:`User Guide <mean_squared_error>`.\u001b[39;00m\n\u001b[0;32m   (...)\u001b[0m\n\u001b[1;32m    333\u001b[0m \u001b[38;5;124;03m    0.825...\u001b[39;00m\n\u001b[1;32m    334\u001b[0m \u001b[38;5;124;03m    \"\"\"\u001b[39;00m\n\u001b[0;32m--> 335\u001b[0m     y_type, y_true, y_pred, multioutput \u001b[38;5;241m=\u001b[39m \u001b[43m_check_reg_targets\u001b[49m\u001b[43m(\u001b[49m\n\u001b[1;32m    336\u001b[0m \u001b[43m        \u001b[49m\u001b[43my_true\u001b[49m\u001b[43m,\u001b[49m\u001b[43m \u001b[49m\u001b[43my_pred\u001b[49m\u001b[43m,\u001b[49m\u001b[43m \u001b[49m\u001b[43mmultioutput\u001b[49m\u001b[43m)\u001b[49m\n\u001b[1;32m    337\u001b[0m     check_consistent_length(y_true, y_pred, sample_weight)\n\u001b[1;32m    338\u001b[0m     output_errors \u001b[38;5;241m=\u001b[39m np\u001b[38;5;241m.\u001b[39maverage((y_true \u001b[38;5;241m-\u001b[39m y_pred) \u001b[38;5;241m*\u001b[39m\u001b[38;5;241m*\u001b[39m \u001b[38;5;241m2\u001b[39m, axis\u001b[38;5;241m=\u001b[39m\u001b[38;5;241m0\u001b[39m,\n\u001b[1;32m    339\u001b[0m                                weights\u001b[38;5;241m=\u001b[39msample_weight)\n",
      "File \u001b[0;32m/opt/conda/lib/python3.8/site-packages/sklearn/metrics/_regression.py:88\u001b[0m, in \u001b[0;36m_check_reg_targets\u001b[0;34m(y_true, y_pred, multioutput, dtype)\u001b[0m\n\u001b[1;32m     54\u001b[0m \u001b[38;5;28;01mdef\u001b[39;00m \u001b[38;5;21m_check_reg_targets\u001b[39m(y_true, y_pred, multioutput, dtype\u001b[38;5;241m=\u001b[39m\u001b[38;5;124m\"\u001b[39m\u001b[38;5;124mnumeric\u001b[39m\u001b[38;5;124m\"\u001b[39m):\n\u001b[1;32m     55\u001b[0m \u001b[38;5;250m    \u001b[39m\u001b[38;5;124;03m\"\"\"Check that y_true and y_pred belong to the same regression task.\u001b[39;00m\n\u001b[1;32m     56\u001b[0m \n\u001b[1;32m     57\u001b[0m \u001b[38;5;124;03m    Parameters\u001b[39;00m\n\u001b[0;32m   (...)\u001b[0m\n\u001b[1;32m     86\u001b[0m \u001b[38;5;124;03m        the dtype argument passed to check_array.\u001b[39;00m\n\u001b[1;32m     87\u001b[0m \u001b[38;5;124;03m    \"\"\"\u001b[39;00m\n\u001b[0;32m---> 88\u001b[0m     \u001b[43mcheck_consistent_length\u001b[49m\u001b[43m(\u001b[49m\u001b[43my_true\u001b[49m\u001b[43m,\u001b[49m\u001b[43m \u001b[49m\u001b[43my_pred\u001b[49m\u001b[43m)\u001b[49m\n\u001b[1;32m     89\u001b[0m     y_true \u001b[38;5;241m=\u001b[39m check_array(y_true, ensure_2d\u001b[38;5;241m=\u001b[39m\u001b[38;5;28;01mFalse\u001b[39;00m, dtype\u001b[38;5;241m=\u001b[39mdtype)\n\u001b[1;32m     90\u001b[0m     y_pred \u001b[38;5;241m=\u001b[39m check_array(y_pred, ensure_2d\u001b[38;5;241m=\u001b[39m\u001b[38;5;28;01mFalse\u001b[39;00m, dtype\u001b[38;5;241m=\u001b[39mdtype)\n",
      "File \u001b[0;32m/opt/conda/lib/python3.8/site-packages/sklearn/utils/validation.py:262\u001b[0m, in \u001b[0;36mcheck_consistent_length\u001b[0;34m(*arrays)\u001b[0m\n\u001b[1;32m    260\u001b[0m uniques \u001b[38;5;241m=\u001b[39m np\u001b[38;5;241m.\u001b[39munique(lengths)\n\u001b[1;32m    261\u001b[0m \u001b[38;5;28;01mif\u001b[39;00m \u001b[38;5;28mlen\u001b[39m(uniques) \u001b[38;5;241m>\u001b[39m \u001b[38;5;241m1\u001b[39m:\n\u001b[0;32m--> 262\u001b[0m     \u001b[38;5;28;01mraise\u001b[39;00m \u001b[38;5;167;01mValueError\u001b[39;00m(\u001b[38;5;124m\"\u001b[39m\u001b[38;5;124mFound input variables with inconsistent numbers of\u001b[39m\u001b[38;5;124m\"\u001b[39m\n\u001b[1;32m    263\u001b[0m                      \u001b[38;5;124m\"\u001b[39m\u001b[38;5;124m samples: \u001b[39m\u001b[38;5;132;01m%r\u001b[39;00m\u001b[38;5;124m\"\u001b[39m \u001b[38;5;241m%\u001b[39m [\u001b[38;5;28mint\u001b[39m(l) \u001b[38;5;28;01mfor\u001b[39;00m l \u001b[38;5;129;01min\u001b[39;00m lengths])\n",
      "\u001b[0;31mValueError\u001b[0m: Found input variables with inconsistent numbers of samples: [32, 30]"
     ]
    }
   ],
   "source": [
    "df = rating_df\n",
    "# extract X,y arrays\n",
    "quiz_columns = [string for string in df.columns if \"Quiz\" in string and \"gesamt\" not in string]\n",
    "X = df[quiz_columns].astype(float)\n",
    "y_test = df[\"Test: Exam Attempt 1 (Punkte)\"].astype(float)\n",
    "y_total = df[\"Kurs gesamt (Punkte)\"].astype(float)\n",
    "\n",
    "\n",
    "# print(X.columns)\n",
    "tree_reg = DecisionTreeRegressor(max_depth=10)\n",
    "tree_reg.fit(X, y_total)\n",
    "y_pred = tree_reg.predict(X)\n",
    "# print(y_pred)\n",
    "x_toPredict = [0.0, 0.0, 0.0, 0.0, 0.0, 0.0, 0.0]\n",
    "print(tree_reg.predict([x_toPredict]))\n",
    "x_toPredict = [10.0, 11.0, 10.0, 12.0, 14.0, 11.0, 7.0]\n",
    "print(tree_reg.predict([x_toPredict]))\n",
    "print(mean_squared_error(y, y_pred))"
   ]
  },
  {
   "cell_type": "code",
   "execution_count": 17,
   "id": "378ca49d",
   "metadata": {},
   "outputs": [
    {
     "name": "stdout",
     "output_type": "stream",
     "text": [
      "   result  total_points  activity_zero\n",
      "0   27.44         27.44      53.896283\n"
     ]
    }
   ],
   "source": [
    "ML_result = pd.DataFrame({\"result\": predict_zero, \"total_points\": total_points, \"activity_zero\": activity_predict_zero_total},  index=[0])\n",
    "print(ML_result)"
   ]
  },
  {
   "cell_type": "code",
   "execution_count": 18,
   "id": "92ad1041",
   "metadata": {},
   "outputs": [],
   "source": [
    "tables = data_model.get_tables()"
   ]
  },
  {
   "cell_type": "code",
   "execution_count": 19,
   "id": "986bd792",
   "metadata": {},
   "outputs": [
    {
     "name": "stderr",
     "output_type": "stream",
     "text": [
      "[2023-06-02 23:19:02,164] WARNING: STRING columns are by default stored as VARCHAR(80) and therefore cut after 80 characters. You can specify a custom field length for each column using the `column_config` parameter.\n"
     ]
    },
    {
     "name": "stdout",
     "output_type": "stream",
     "text": [
      "[2023-06-02 23:19:02,231] INFO: Successfully created data push job with id 'ea921cc4-ea25-4ce1-a594-920bd718c969'\n",
      "[2023-06-02 23:19:02,233] INFO: Add data frame as file chunks to data push job with id 'ea921cc4-ea25-4ce1-a594-920bd718c969'\n"
     ]
    },
    {
     "data": {
      "application/vnd.jupyter.widget-view+json": {
       "model_id": "a94d168e911247d497419fe06f1aa0d0",
       "version_major": 2,
       "version_minor": 0
      },
      "text/plain": [
       "  0%|          | 0/1 [00:00<?, ?it/s]"
      ]
     },
     "metadata": {},
     "output_type": "display_data"
    },
    {
     "name": "stdout",
     "output_type": "stream",
     "text": [
      "[2023-06-02 23:19:02,484] INFO: Successfully upserted file chunk to data push job with id 'ea921cc4-ea25-4ce1-a594-920bd718c969'\n",
      "[2023-06-02 23:19:02,711] INFO: Successfully triggered execution for data push job with id 'ea921cc4-ea25-4ce1-a594-920bd718c969'\n",
      "[2023-06-02 23:19:02,712] INFO: Wait for execution of data push job with id 'ea921cc4-ea25-4ce1-a594-920bd718c969'\n"
     ]
    },
    {
     "data": {
      "application/vnd.jupyter.widget-view+json": {
       "model_id": "08d5e766ea9e45f4ba64be5145f4eec0",
       "version_major": 2,
       "version_minor": 0
      },
      "text/plain": [
       "0it [00:00, ?it/s]"
      ]
     },
     "metadata": {},
     "output_type": "display_data"
    },
    {
     "name": "stdout",
     "output_type": "stream",
     "text": [
      "[2023-06-02 23:19:06,916] INFO: Successfully created table 'ML_results_0' in data pool\n",
      "[2023-06-02 23:19:07,142] INFO: Successfully deleted data push job with id 'ea921cc4-ea25-4ce1-a594-920bd718c969'\n"
     ]
    },
    {
     "data": {
      "text/plain": [
       "DataPoolTable(name='ML_results_0', data_source_id=None, columns=[], schema_name='5656d8b6-63fd-41f0-9e10-6183b71028c9', data_pool_id='5656d8b6-63fd-41f0-9e10-6183b71028c9')"
      ]
     },
     "execution_count": 19,
     "metadata": {},
     "output_type": "execute_result"
    }
   ],
   "source": [
    "data_pool.create_table(df=ML_result, table_name=\"ML_results_0\", drop_if_exists=True, force=True)"
   ]
  },
  {
   "cell_type": "code",
   "execution_count": 20,
   "id": "2bfc1c01",
   "metadata": {},
   "outputs": [
    {
     "name": "stdout",
     "output_type": "stream",
     "text": [
      "[2023-06-02 23:19:07,823] INFO: Successfully deleted data model table with id '2047642b-f5bb-4791-b289-d37e9fbefa53'\n",
      "[2023-06-02 23:19:07,895] INFO: Successfully added data model table with id '58204638-0fe4-48c4-a7e8-38ae3b35bd89' to data model\n"
     ]
    },
    {
     "data": {
      "text/plain": [
       "DataModelTable(id='58204638-0fe4-48c4-a7e8-38ae3b35bd89', data_model_id='ad437bad-a13d-4f31-b247-0760c57ae3b0', name='ML_results_0', alias='ML_results_0', data_pool_id='5656d8b6-63fd-41f0-9e10-6183b71028c9')"
      ]
     },
     "execution_count": 20,
     "metadata": {},
     "output_type": "execute_result"
    }
   ],
   "source": [
    "tables.find(\"ML_results_0\").delete()\n",
    "data_model.add_table(name=\"ML_results_0\", alias=\"ML_results_0\")"
   ]
  },
  {
   "cell_type": "code",
   "execution_count": 21,
   "id": "ce88b96e",
   "metadata": {},
   "outputs": [
    {
     "data": {
      "text/plain": [
       "[\n",
       "\tDataPoolTable(name='ML_result', data_source_id=None, columns=[], schema_name='5656d8b6-63fd-41f0-9e10-6183b71028c9', data_pool_id='5656d8b6-63fd-41f0-9e10-6183b71028c9'),\n",
       "\tDataPoolTable(name='ML_results', data_source_id=None, columns=[], schema_name='5656d8b6-63fd-41f0-9e10-6183b71028c9', data_pool_id='5656d8b6-63fd-41f0-9e10-6183b71028c9'),\n",
       "\tDataPoolTable(name='ML_results4', data_source_id=None, columns=[], schema_name='5656d8b6-63fd-41f0-9e10-6183b71028c9', data_pool_id='5656d8b6-63fd-41f0-9e10-6183b71028c9'),\n",
       "\tDataPoolTable(name='ML_results5', data_source_id=None, columns=[], schema_name='5656d8b6-63fd-41f0-9e10-6183b71028c9', data_pool_id='5656d8b6-63fd-41f0-9e10-6183b71028c9'),\n",
       "\tDataPoolTable(name='ML_results_0', data_source_id=None, columns=[], schema_name='5656d8b6-63fd-41f0-9e10-6183b71028c9', data_pool_id='5656d8b6-63fd-41f0-9e10-6183b71028c9'),\n",
       "\tDataPoolTable(name='activities', data_source_id=None, columns=[], schema_name='5656d8b6-63fd-41f0-9e10-6183b71028c9', data_pool_id='5656d8b6-63fd-41f0-9e10-6183b71028c9'),\n",
       "\tDataPoolTable(name='rating', data_source_id=None, columns=[], schema_name='5656d8b6-63fd-41f0-9e10-6183b71028c9', data_pool_id='5656d8b6-63fd-41f0-9e10-6183b71028c9'),\n",
       "\tDataPoolTable(name='test_felix', data_source_id=None, columns=[], schema_name='5656d8b6-63fd-41f0-9e10-6183b71028c9', data_pool_id='5656d8b6-63fd-41f0-9e10-6183b71028c9'),\n",
       "\tDataPoolTable(name='test_felix2', data_source_id=None, columns=[], schema_name='5656d8b6-63fd-41f0-9e10-6183b71028c9', data_pool_id='5656d8b6-63fd-41f0-9e10-6183b71028c9'),\n",
       "\tDataPoolTable(name='test_table', data_source_id=None, columns=[], schema_name='5656d8b6-63fd-41f0-9e10-6183b71028c9', data_pool_id='5656d8b6-63fd-41f0-9e10-6183b71028c9')\n",
       "]"
      ]
     },
     "execution_count": 21,
     "metadata": {},
     "output_type": "execute_result"
    }
   ],
   "source": [
    "data_pool.get_tables()"
   ]
  },
  {
   "cell_type": "code",
   "execution_count": 22,
   "id": "5ed3263c",
   "metadata": {},
   "outputs": [
    {
     "name": "stdout",
     "output_type": "stream",
     "text": [
      "[2023-06-02 23:19:08,826] INFO: Successfully triggered data model reload for data model with id 'ad437bad-a13d-4f31-b247-0760c57ae3b0'\n",
      "[2023-06-02 23:19:08,827] INFO: Wait for execution of data model reload for data model with id 'ad437bad-a13d-4f31-b247-0760c57ae3b0'\n"
     ]
    },
    {
     "data": {
      "application/vnd.jupyter.widget-view+json": {
       "model_id": "fc0bb8fc530f4e5d914120786dcf9392",
       "version_major": 2,
       "version_minor": 0
      },
      "text/plain": [
       "0it [00:00, ?it/s]"
      ]
     },
     "metadata": {},
     "output_type": "display_data"
    }
   ],
   "source": [
    "data_model.reload()"
   ]
  }
 ],
 "metadata": {
  "kernelspec": {
   "display_name": "Python 3 (ipykernel)",
   "language": "python",
   "name": "python3"
  },
  "language_info": {
   "codemirror_mode": {
    "name": "ipython",
    "version": 3
   },
   "file_extension": ".py",
   "mimetype": "text/x-python",
   "name": "python",
   "nbconvert_exporter": "python",
   "pygments_lexer": "ipython3",
   "version": "3.8.6"
  }
 },
 "nbformat": 4,
 "nbformat_minor": 5
}
