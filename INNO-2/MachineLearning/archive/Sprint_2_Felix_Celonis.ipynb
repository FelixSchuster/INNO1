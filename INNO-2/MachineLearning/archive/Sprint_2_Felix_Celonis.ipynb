{
 "cells": [
  {
   "cell_type": "code",
   "execution_count": 1,
   "id": "2baa4807",
   "metadata": {},
   "outputs": [],
   "source": [
    "# import os\n",
    "# os.system(\"pip install --upgrade pip\")\n",
    "# os.system(\"python3.8 -m pip install --upgrade pip\")\n",
    "# os.system(\"pip install --extra-index-url=https://pypi.celonis.cloud/ pycelonis --upgrade\")\n",
    "# os.system(\"pip install pycelonis\")"
   ]
  },
  {
   "cell_type": "code",
   "execution_count": 2,
   "id": "688031ba",
   "metadata": {},
   "outputs": [],
   "source": [
    "from pycelonis import *\n",
    "from pycelonis.pql import *"
   ]
  },
  {
   "cell_type": "code",
   "execution_count": 3,
   "id": "b51a190a",
   "metadata": {},
   "outputs": [
    {
     "name": "stdout",
     "output_type": "stream",
     "text": [
      "[2023-04-27 08:36:40,986] INFO: Initial connect successful! PyCelonis Version: 2.0.3\n"
     ]
    }
   ],
   "source": [
    "url = \"https://academic-if21b054-technikum-wien-at.eu-2.celonis.cloud/\"\n",
    "\n",
    "file = open('APP_KEY.txt')\n",
    "api_token = file.read()\n",
    "file.close()\n",
    "\n",
    "key_type = \"APP_KEY\"\n",
    "celonis = get_celonis(base_url=url, api_token=api_token, key_type=key_type, permissions=False)"
   ]
  },
  {
   "cell_type": "code",
   "execution_count": 4,
   "id": "d0a1652a",
   "metadata": {},
   "outputs": [],
   "source": [
    "data_pool_name = \"datapool-filtered-final-version\"\n",
    "data_model_name = \"datamodel-filtered-final-version\"\n",
    "activity_table_name = \"activities\"\n",
    "rating_table_name = \"rating\""
   ]
  },
  {
   "cell_type": "code",
   "execution_count": 5,
   "id": "6f331afb",
   "metadata": {},
   "outputs": [],
   "source": [
    "data_pool = celonis.data_integration.get_data_pools().find(data_pool_name)\n",
    "data_model = data_pool.get_data_models().find(data_model_name)\n",
    "activity_table = data_model.get_tables().find(activity_table_name)\n",
    "rating_table = data_model.get_tables().find(rating_table_name)"
   ]
  },
  {
   "cell_type": "code",
   "execution_count": 6,
   "id": "4cefb105",
   "metadata": {},
   "outputs": [
    {
     "name": "stdout",
     "output_type": "stream",
     "text": [
      "[2023-04-27 08:36:41,824] INFO: Successfully created data export with id 'c9bee4cb-29ab-4568-ba30-b1c38d72e11d'\n",
      "[2023-04-27 08:36:41,825] INFO: Wait for execution of data export with id 'c9bee4cb-29ab-4568-ba30-b1c38d72e11d'\n"
     ]
    },
    {
     "data": {
      "application/vnd.jupyter.widget-view+json": {
       "model_id": "218ca2505b854100b880623ccd8497c2",
       "version_major": 2,
       "version_minor": 0
      },
      "text/plain": [
       "0it [00:00, ?it/s]"
      ]
     },
     "metadata": {},
     "output_type": "display_data"
    },
    {
     "name": "stdout",
     "output_type": "stream",
     "text": [
      "[2023-04-27 08:36:41,927] INFO: Export result chunks for data export with id 'c9bee4cb-29ab-4568-ba30-b1c38d72e11d'\n"
     ]
    }
   ],
   "source": [
    "query = PQL(distinct=False, limit=None, offset=None)\n",
    "query += PQLColumn(name=\"Zeit\", query=\"\"\" \"ACTIVITIES\".\"zeit\" \"\"\")\n",
    "query += PQLColumn(name=\"Vollständiger Name\", query=\"\"\" \"ACTIVITIES\".\"Vollständiger Name\" \"\"\")\n",
    "query += PQLColumn(name=\"Ereigniskontext - Ereignisname\", query=\"\"\" \"ACTIVITIES\".\"Ereigniskontext - Ereignisname\" \"\"\")\n",
    "\n",
    "result_df = data_model.export_data_frame(query)\n",
    "# result_df"
   ]
  },
  {
   "cell_type": "code",
   "execution_count": 7,
   "id": "1826b601",
   "metadata": {},
   "outputs": [
    {
     "name": "stdout",
     "output_type": "stream",
     "text": [
      "[2023-04-27 08:36:42,233] INFO: Successfully created data export with id '1744c32f-6dc1-43e9-9041-934fcbcc1b85'\n",
      "[2023-04-27 08:36:42,234] INFO: Wait for execution of data export with id '1744c32f-6dc1-43e9-9041-934fcbcc1b85'\n"
     ]
    },
    {
     "data": {
      "application/vnd.jupyter.widget-view+json": {
       "model_id": "2a938e16b61545a3984f588b33c44963",
       "version_major": 2,
       "version_minor": 0
      },
      "text/plain": [
       "0it [00:00, ?it/s]"
      ]
     },
     "metadata": {},
     "output_type": "display_data"
    },
    {
     "name": "stdout",
     "output_type": "stream",
     "text": [
      "[2023-04-27 08:36:42,325] INFO: Export result chunks for data export with id '1744c32f-6dc1-43e9-9041-934fcbcc1b85'\n"
     ]
    }
   ],
   "source": [
    "query = PQL(distinct=False, limit=None, offset=None)\n",
    "query += PQLColumn(name=\"Nr\", query=\"\"\" \"RATING\".\"Nr\" \"\"\")\n",
    "query += PQLColumn(name=\"Test: Quiz 1 (Punkte)\", query=\"\"\" \"RATING\".\"Test: Quiz 1 (Punkte)\" \"\"\")\n",
    "query += PQLColumn(name=\"Test: Quiz 2 (Punkte)\", query=\"\"\" \"RATING\".\"Test: Quiz 2 (Punkte)\" \"\"\")\n",
    "query += PQLColumn(name=\"Test: Quiz 3 (Punkte)\", query=\"\"\" \"RATING\".\"Test: Quiz 3 (Punkte)\" \"\"\")\n",
    "query += PQLColumn(name=\"Test: Quiz 4 (Punkte)\", query=\"\"\" \"RATING\".\"Test: Quiz 4 (Punkte)\" \"\"\")\n",
    "query += PQLColumn(name=\"Test: Quiz 5 (Punkte)\", query=\"\"\" \"RATING\".\"Test: Quiz 5 (Punkte)\" \"\"\")\n",
    "query += PQLColumn(name=\"Test: Quiz 6 (Punkte)\", query=\"\"\" \"RATING\".\"Test: Quiz 6 (Punkte)\" \"\"\")\n",
    "query += PQLColumn(name=\"Test: Quiz 7 (Punkte)\", query=\"\"\" \"RATING\".\"Test: Quiz 7 (Punkte)\" \"\"\")\n",
    "query += PQLColumn(name=\"Quiz gesamt (Punkte)\", query=\"\"\" \"RATING\".\"Quiz gesamt (Punkte)\" \"\"\")\n",
    "query += PQLColumn(name=\"Test: Exam Attempt 1 (Punkte)\", query=\"\"\" \"RATING\".\"Test: Exam Attempt 1 (Punkte)\" \"\"\")\n",
    "query += PQLColumn(name=\"Kurs gesamt (Punkte)\", query=\"\"\" \"RATING\".\"Kurs gesamt (Punkte)\" \"\"\")\n",
    "query += PQLColumn(name=\"Name\", query=\"\"\" \"RATING\".\"Name\" \"\"\")\n",
    "\n",
    "result_df = data_model.export_data_frame(query)\n",
    "# result_df"
   ]
  },
  {
   "cell_type": "code",
   "execution_count": 8,
   "id": "e1c04e68",
   "metadata": {},
   "outputs": [
    {
     "data": {
      "text/plain": [
       "[\n",
       "\tDataPoolTable(name='ML_result', data_source_id=None, columns=[], schema_name='5656d8b6-63fd-41f0-9e10-6183b71028c9', data_pool_id='5656d8b6-63fd-41f0-9e10-6183b71028c9'),\n",
       "\tDataPoolTable(name='ML_results', data_source_id=None, columns=[], schema_name='5656d8b6-63fd-41f0-9e10-6183b71028c9', data_pool_id='5656d8b6-63fd-41f0-9e10-6183b71028c9'),\n",
       "\tDataPoolTable(name='ML_results4', data_source_id=None, columns=[], schema_name='5656d8b6-63fd-41f0-9e10-6183b71028c9', data_pool_id='5656d8b6-63fd-41f0-9e10-6183b71028c9'),\n",
       "\tDataPoolTable(name='ML_results5', data_source_id=None, columns=[], schema_name='5656d8b6-63fd-41f0-9e10-6183b71028c9', data_pool_id='5656d8b6-63fd-41f0-9e10-6183b71028c9'),\n",
       "\tDataPoolTable(name='ML_results_0', data_source_id=None, columns=[], schema_name='5656d8b6-63fd-41f0-9e10-6183b71028c9', data_pool_id='5656d8b6-63fd-41f0-9e10-6183b71028c9'),\n",
       "\tDataPoolTable(name='activities', data_source_id=None, columns=[], schema_name='5656d8b6-63fd-41f0-9e10-6183b71028c9', data_pool_id='5656d8b6-63fd-41f0-9e10-6183b71028c9'),\n",
       "\tDataPoolTable(name='rating', data_source_id=None, columns=[], schema_name='5656d8b6-63fd-41f0-9e10-6183b71028c9', data_pool_id='5656d8b6-63fd-41f0-9e10-6183b71028c9'),\n",
       "\tDataPoolTable(name='test_felix', data_source_id=None, columns=[], schema_name='5656d8b6-63fd-41f0-9e10-6183b71028c9', data_pool_id='5656d8b6-63fd-41f0-9e10-6183b71028c9'),\n",
       "\tDataPoolTable(name='test_felix2', data_source_id=None, columns=[], schema_name='5656d8b6-63fd-41f0-9e10-6183b71028c9', data_pool_id='5656d8b6-63fd-41f0-9e10-6183b71028c9'),\n",
       "\tDataPoolTable(name='test_table', data_source_id=None, columns=[], schema_name='5656d8b6-63fd-41f0-9e10-6183b71028c9', data_pool_id='5656d8b6-63fd-41f0-9e10-6183b71028c9')\n",
       "]"
      ]
     },
     "execution_count": 8,
     "metadata": {},
     "output_type": "execute_result"
    }
   ],
   "source": [
    "data_pool.get_tables()"
   ]
  },
  {
   "cell_type": "code",
   "execution_count": 9,
   "id": "973788d6",
   "metadata": {},
   "outputs": [
    {
     "ename": "PyCelonisValueError",
     "evalue": "Replacing table 'ML_results' without specifying column_config resets table schema to default. Especially STRING columns are affected where the default data type is VARCHAR(80) which causes longer strings to be cut at 80 characters. Either specify column_config or set `force=True`.",
     "output_type": "error",
     "traceback": [
      "\u001b[0;31m---------------------------------------------------------------------------\u001b[0m",
      "\u001b[0;31mPyCelonisValueError\u001b[0m                       Traceback (most recent call last)",
      "Input \u001b[0;32mIn [9]\u001b[0m, in \u001b[0;36m<cell line: 1>\u001b[0;34m()\u001b[0m\n\u001b[0;32m----> 1\u001b[0m \u001b[43mdata_pool\u001b[49m\u001b[38;5;241;43m.\u001b[39;49m\u001b[43mcreate_table\u001b[49m\u001b[43m(\u001b[49m\u001b[43mdf\u001b[49m\u001b[38;5;241;43m=\u001b[39;49m\u001b[43mresult_df\u001b[49m\u001b[43m,\u001b[49m\u001b[43m \u001b[49m\u001b[43mtable_name\u001b[49m\u001b[38;5;241;43m=\u001b[39;49m\u001b[38;5;124;43m\"\u001b[39;49m\u001b[38;5;124;43mML_results\u001b[39;49m\u001b[38;5;124;43m\"\u001b[39;49m\u001b[43m,\u001b[49m\u001b[43m \u001b[49m\u001b[43mdrop_if_exists\u001b[49m\u001b[38;5;241;43m=\u001b[39;49m\u001b[38;5;28;43;01mTrue\u001b[39;49;00m\u001b[43m)\u001b[49m\n",
      "File \u001b[0;32m~/.local/lib/python3.8/site-packages/pycelonis/ems/data_integration/data_pool.py:319\u001b[0m, in \u001b[0;36mDataPool.create_table\u001b[0;34m(self, df, table_name, drop_if_exists, column_config, chunk_size, force, data_source_id, **kwargs)\u001b[0m\n\u001b[1;32m    317\u001b[0m         \u001b[38;5;28;01mraise\u001b[39;00m PyCelonisTableAlreadyExistsError(table_name)\n\u001b[1;32m    318\u001b[0m     \u001b[38;5;28;01mif\u001b[39;00m column_config \u001b[38;5;129;01mis\u001b[39;00m \u001b[38;5;28;01mNone\u001b[39;00m \u001b[38;5;129;01mand\u001b[39;00m \u001b[38;5;129;01mnot\u001b[39;00m force:\n\u001b[0;32m--> 319\u001b[0m         \u001b[38;5;28;01mraise\u001b[39;00m PyCelonisValueError(\n\u001b[1;32m    320\u001b[0m             \u001b[38;5;124mf\u001b[39m\u001b[38;5;124m\"\u001b[39m\u001b[38;5;124mReplacing table \u001b[39m\u001b[38;5;124m'\u001b[39m\u001b[38;5;132;01m{\u001b[39;00mtable_name\u001b[38;5;132;01m}\u001b[39;00m\u001b[38;5;124m'\u001b[39m\u001b[38;5;124m without specifying column_config resets table schema to default. \u001b[39m\u001b[38;5;124m\"\u001b[39m\n\u001b[1;32m    321\u001b[0m             \u001b[38;5;124mf\u001b[39m\u001b[38;5;124m\"\u001b[39m\u001b[38;5;124mEspecially STRING columns are affected where the default data type is VARCHAR(80) which causes\u001b[39m\u001b[38;5;124m\"\u001b[39m\n\u001b[1;32m    322\u001b[0m             \u001b[38;5;124mf\u001b[39m\u001b[38;5;124m\"\u001b[39m\u001b[38;5;124m longer strings to be cut at 80 characters. Either specify column_config or set `force=True`.\u001b[39m\u001b[38;5;124m\"\u001b[39m\n\u001b[1;32m    323\u001b[0m         )\n\u001b[1;32m    325\u001b[0m \u001b[38;5;28;01mif\u001b[39;00m column_config \u001b[38;5;129;01mis\u001b[39;00m \u001b[38;5;28;01mNone\u001b[39;00m:\n\u001b[1;32m    326\u001b[0m     logger\u001b[38;5;241m.\u001b[39mwarning(\n\u001b[1;32m    327\u001b[0m         \u001b[38;5;124m\"\u001b[39m\u001b[38;5;124mSTRING columns are by default stored as VARCHAR(80) and therefore cut after 80 characters. You can \u001b[39m\u001b[38;5;124m\"\u001b[39m\n\u001b[1;32m    328\u001b[0m         \u001b[38;5;124m\"\u001b[39m\u001b[38;5;124mspecify a custom field length for each column using the `column_config` parameter.\u001b[39m\u001b[38;5;124m\"\u001b[39m\n\u001b[1;32m    329\u001b[0m     )\n",
      "\u001b[0;31mPyCelonisValueError\u001b[0m: Replacing table 'ML_results' without specifying column_config resets table schema to default. Especially STRING columns are affected where the default data type is VARCHAR(80) which causes longer strings to be cut at 80 characters. Either specify column_config or set `force=True`."
     ]
    }
   ],
   "source": [
    "data_pool.create_table(df=result_df, table_name=\"ML_results\", drop_if_exists=True)"
   ]
  },
  {
   "cell_type": "code",
   "execution_count": null,
   "id": "1fd15917",
   "metadata": {},
   "outputs": [],
   "source": [
    "data_model.add_table(name=\"ML_results\", alias=\"ML_results2\")"
   ]
  },
  {
   "cell_type": "code",
   "execution_count": null,
   "id": "48fc57a7",
   "metadata": {},
   "outputs": [],
   "source": [
    "data_pool.get_tables()"
   ]
  },
  {
   "cell_type": "code",
   "execution_count": null,
   "id": "3e27e28a",
   "metadata": {},
   "outputs": [],
   "source": [
    "data_model.get_tables()"
   ]
  },
  {
   "cell_type": "code",
   "execution_count": null,
   "id": "8f47f20b",
   "metadata": {},
   "outputs": [],
   "source": [
    "# delete_table_id = \"6d7bf66c-3fb3-49e2-8b10-a5075eded086\"\n",
    "# delete_table = data_model.get_table(delete_table_id)\n",
    "# delete_table.delete()"
   ]
  },
  {
   "cell_type": "code",
   "execution_count": null,
   "id": "70a08afd",
   "metadata": {},
   "outputs": [],
   "source": [
    "ML_result_id = '4d49ced9-abed-4dc1-b063-67c0dc935307'\n",
    "data_model.get_table(ML_result_id)\n",
    "# data_pool.create_table(df=result_df, table_name=\"ML_results\", drop_if_exists=True)"
   ]
  },
  {
   "cell_type": "code",
   "execution_count": null,
   "id": "1d71252c",
   "metadata": {},
   "outputs": [],
   "source": []
  }
 ],
 "metadata": {
  "kernelspec": {
   "display_name": "Python 3 (ipykernel)",
   "language": "python",
   "name": "python3"
  },
  "language_info": {
   "codemirror_mode": {
    "name": "ipython",
    "version": 3
   },
   "file_extension": ".py",
   "mimetype": "text/x-python",
   "name": "python",
   "nbconvert_exporter": "python",
   "pygments_lexer": "ipython3",
   "version": "3.8.6"
  }
 },
 "nbformat": 4,
 "nbformat_minor": 5
}
