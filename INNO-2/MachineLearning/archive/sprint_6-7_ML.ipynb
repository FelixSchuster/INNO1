{
 "cells": [
  {
   "cell_type": "code",
   "execution_count": 1,
   "id": "671d3a0d",
   "metadata": {},
   "outputs": [],
   "source": [
    "# import os\n",
    "# os.system(\"pip install --upgrade pip\")\n",
    "# os.system(\"python3.8 -m pip install --upgrade pip\")\n",
    "# os.system(\"pip install --extra-index-url=https://pypi.celonis.cloud/ pycelonis --upgrade\")\n",
    "# os.system(\"pip install pycelonis\")"
   ]
  },
  {
   "cell_type": "code",
   "execution_count": 2,
   "id": "3f69b0da",
   "metadata": {},
   "outputs": [],
   "source": [
    "from pycelonis import *\n",
    "from pycelonis.pql import *\n",
    "\n",
    "import pandas as pd\n",
    "import numpy as np\n",
    "import matplotlib.pyplot as plt\n",
    "from sklearn.model_selection import train_test_split\n",
    "from sklearn.preprocessing import MinMaxScaler\n",
    "from sklearn.neighbors import KNeighborsClassifier, KNeighborsRegressor\n",
    "from sklearn.metrics import mean_absolute_error, mean_squared_error, median_absolute_error\n",
    "from sklearn.linear_model import LinearRegression\n",
    "from sklearn.tree import DecisionTreeRegressor, DecisionTreeClassifier\n",
    "from sklearn.model_selection import LeaveOneOut\n",
    "from sklearn.metrics import accuracy_score, balanced_accuracy_score"
   ]
  },
  {
   "cell_type": "code",
   "execution_count": 3,
   "id": "082253f2",
   "metadata": {},
   "outputs": [
    {
     "name": "stderr",
     "output_type": "stream",
     "text": [
      "[2023-06-05 12:16:18,278] WARNING: Your PyCelonis Version 2.0.3 is outdated (Newest Version: 2.2.0). Please upgrade the package via: pip install --extra-index-url=https://pypi.celonis.cloud/ pycelonis pycelonis_core --upgrade\n"
     ]
    },
    {
     "name": "stdout",
     "output_type": "stream",
     "text": [
      "[2023-06-05 12:16:18,376] INFO: Initial connect successful! PyCelonis Version: 2.0.3\n"
     ]
    }
   ],
   "source": [
    "url = \"https://academic-if21b054-technikum-wien-at.eu-2.celonis.cloud/\"\n",
    "\n",
    "# file = open('./Machine_Learning/APP_KEY.txt')\n",
    "file = open('APP_KEY.txt')\n",
    "api_token = file.read()\n",
    "file.close()\n",
    "\n",
    "key_type = \"APP_KEY\"\n",
    "celonis = get_celonis(base_url=url, api_token=api_token, key_type=key_type, permissions=False)"
   ]
  },
  {
   "cell_type": "code",
   "execution_count": 4,
   "id": "d0a84663",
   "metadata": {},
   "outputs": [],
   "source": [
    "data_pool_name = \"datapool-filtered-final-version\"\n",
    "data_model_name = \"datamodel-filtered-final-version\"\n",
    "activity_table_name = \"activities\"\n",
    "rating_table_name = \"rating\""
   ]
  },
  {
   "cell_type": "code",
   "execution_count": 5,
   "id": "2c07f9a5",
   "metadata": {},
   "outputs": [],
   "source": [
    "data_pool = celonis.data_integration.get_data_pools().find(data_pool_name)\n",
    "data_model = data_pool.get_data_models().find(data_model_name)\n",
    "activity_table = data_model.get_tables().find(activity_table_name)\n",
    "rating_table = data_model.get_tables().find(rating_table_name)"
   ]
  },
  {
   "cell_type": "code",
   "execution_count": 6,
   "id": "adb0c27b",
   "metadata": {},
   "outputs": [
    {
     "name": "stdout",
     "output_type": "stream",
     "text": [
      "[2023-06-05 12:16:18,912] INFO: Successfully created data export with id '4e6664a5-b945-4d69-93a9-7ca403ba149d'\n",
      "[2023-06-05 12:16:18,914] INFO: Wait for execution of data export with id '4e6664a5-b945-4d69-93a9-7ca403ba149d'\n"
     ]
    },
    {
     "data": {
      "application/vnd.jupyter.widget-view+json": {
       "model_id": "1c048fe5f5a9454e8f6e1a3f13a41b19",
       "version_major": 2,
       "version_minor": 0
      },
      "text/plain": [
       "0it [00:00, ?it/s]"
      ]
     },
     "metadata": {},
     "output_type": "display_data"
    },
    {
     "name": "stdout",
     "output_type": "stream",
     "text": [
      "[2023-06-05 12:16:19,004] INFO: Export result chunks for data export with id '4e6664a5-b945-4d69-93a9-7ca403ba149d'\n"
     ]
    }
   ],
   "source": [
    "query = PQL(distinct=False, limit=None, offset=None)\n",
    "query += PQLColumn(name=\"Zeit\", query=\"\"\" \"ACTIVITIES\".\"zeit\" \"\"\")\n",
    "query += PQLColumn(name=\"Vollständiger Name\", query=\"\"\" \"ACTIVITIES\".\"Vollständiger Name\" \"\"\")\n",
    "query += PQLColumn(name=\"Ereigniskontext - Ereignisname\", query=\"\"\" \"ACTIVITIES\".\"Ereigniskontext - Ereignisname\" \"\"\")\n",
    "\n",
    "activity_df = data_model.export_data_frame(query)"
   ]
  },
  {
   "cell_type": "code",
   "execution_count": 7,
   "id": "71ec3b22",
   "metadata": {},
   "outputs": [
    {
     "name": "stdout",
     "output_type": "stream",
     "text": [
      "[2023-06-05 12:16:19,256] INFO: Successfully created data export with id 'b2bb7ef2-3ad1-4ca6-a3ae-fd9c19768f04'\n",
      "[2023-06-05 12:16:19,257] INFO: Wait for execution of data export with id 'b2bb7ef2-3ad1-4ca6-a3ae-fd9c19768f04'\n"
     ]
    },
    {
     "data": {
      "application/vnd.jupyter.widget-view+json": {
       "model_id": "16369eebea514d0a97f4af32eea1fe79",
       "version_major": 2,
       "version_minor": 0
      },
      "text/plain": [
       "0it [00:00, ?it/s]"
      ]
     },
     "metadata": {},
     "output_type": "display_data"
    },
    {
     "name": "stdout",
     "output_type": "stream",
     "text": [
      "[2023-06-05 12:16:21,370] INFO: Export result chunks for data export with id 'b2bb7ef2-3ad1-4ca6-a3ae-fd9c19768f04'\n"
     ]
    }
   ],
   "source": [
    "query = PQL(distinct=False, limit=None, offset=None)\n",
    "query += PQLColumn(name=\"Nr\", query=\"\"\" \"RATING\".\"Nr\" \"\"\")\n",
    "query += PQLColumn(name=\"Test: Quiz 1 (Punkte)\", query=\"\"\" \"RATING\".\"Test: Quiz 1 (Punkte)\" \"\"\")\n",
    "query += PQLColumn(name=\"Test: Quiz 2 (Punkte)\", query=\"\"\" \"RATING\".\"Test: Quiz 2 (Punkte)\" \"\"\")\n",
    "query += PQLColumn(name=\"Test: Quiz 3 (Punkte)\", query=\"\"\" \"RATING\".\"Test: Quiz 3 (Punkte)\" \"\"\")\n",
    "query += PQLColumn(name=\"Test: Quiz 4 (Punkte)\", query=\"\"\" \"RATING\".\"Test: Quiz 4 (Punkte)\" \"\"\")\n",
    "query += PQLColumn(name=\"Test: Quiz 5 (Punkte)\", query=\"\"\" \"RATING\".\"Test: Quiz 5 (Punkte)\" \"\"\")\n",
    "query += PQLColumn(name=\"Test: Quiz 6 (Punkte)\", query=\"\"\" \"RATING\".\"Test: Quiz 6 (Punkte)\" \"\"\")\n",
    "query += PQLColumn(name=\"Test: Quiz 7 (Punkte)\", query=\"\"\" \"RATING\".\"Test: Quiz 7 (Punkte)\" \"\"\")\n",
    "query += PQLColumn(name=\"Quiz gesamt (Punkte)\", query=\"\"\" \"RATING\".\"Quiz gesamt (Punkte)\" \"\"\")\n",
    "query += PQLColumn(name=\"Test: Exam Attempt 1 (Punkte)\", query=\"\"\" \"RATING\".\"Test: Exam Attempt 1 (Punkte)\" \"\"\")\n",
    "query += PQLColumn(name=\"Kurs gesamt (Punkte)\", query=\"\"\" \"RATING\".\"Kurs gesamt (Punkte)\" \"\"\")\n",
    "query += PQLColumn(name=\"Name\", query=\"\"\" \"RATING\".\"Name\" \"\"\")\n",
    "\n",
    "rating_df = data_model.export_data_frame(query)"
   ]
  },
  {
   "cell_type": "code",
   "execution_count": 8,
   "id": "f22742b7",
   "metadata": {},
   "outputs": [
    {
     "name": "stdout",
     "output_type": "stream",
     "text": [
      "MAE:  13.554\n",
      "RMSE:  18.166\n",
      "ACC:  0.967\n",
      "BACC:  0.981\n",
      "PROBA:  [1.0, 0.5, 1.0, 1.0, 1.0, 1.0, 0.5, 1.0, 1.0, 1.0, 1.0, 1.0, 1.0, 1.0, 1.0, 1.0, 1.0, 1.0, 1.0, 1.0, 1.0, 0.5, 1.0, 1.0, 1.0, 1.0, 0.5, 1.0, 1.0, 1.0]\n"
     ]
    }
   ],
   "source": [
    "################################################# NEAREST NEIGHBOUR #################################################\n",
    "\n",
    "# read the data\n",
    "df = rating_df\n",
    "\n",
    "\n",
    "df = df.drop([\"Quiz gesamt (Punkte)\",], axis=1)\n",
    "\n",
    "# extract X,y arrays\n",
    "quiz_columns = [string for string in df.columns if \"Quiz\" in string and \"gesamt\" not in string]\n",
    "X = df[quiz_columns].astype(float)\n",
    "y_test = df[\"Test: Exam Attempt 1 (Punkte)\"].astype(float)\n",
    "y_total = df[\"Kurs gesamt (Punkte)\"].astype(float)\n",
    "y_pass = y_total.apply(lambda x: 0 if x < 50 else 1)\n",
    "\n",
    "# scale X\n",
    "mmSc = MinMaxScaler()\n",
    "mmSc.fit(X)\n",
    "X = mmSc.transform(X)\n",
    "X = pd.DataFrame(X)\n",
    "y = y_total\n",
    "\"\"\"\n",
    "# split into train and test\n",
    "X_train_test, X_test_test, y_train_test, y_test_test = train_test_split(X, y_test, test_size=0.2, shuffle=False)\n",
    "X_train_total, X_test_total, y_train_total, y_test_total = train_test_split(X, y_total, test_size=0.2, shuffle=False)\n",
    "collector = []\n",
    "\n",
    "# perform KNN for k in (1,15)\n",
    "for k in range(1, 15):\n",
    "    knn = KNeighborsRegressor(k).fit(X_train, y_train)\n",
    "    y_predict = knn.predict(X_test)\n",
    "\n",
    "    collector.append({\"k\": k,\n",
    "                      \"mea\": mean_absolute_error(y_test, y_predict),\n",
    "                      \"rmse\": mean_squared_error(y_test, y_predict),\n",
    "                      \"medae\": median_absolute_error(y_test, y_predict)\n",
    "                      })\n",
    "\n",
    "result = pd.DataFrame(collector)\n",
    "print(result)\n",
    "# try to predict X with all 0.0\n",
    "knn_test = KNeighborsRegressor(5).fit(X_train_test, y_train_test)\n",
    "knn_total = KNeighborsRegressor(5).fit(X_train_total, y_train_total)\n",
    "# reg = LinearRegression().fit(X_train, y_train)\n",
    "x_toPredict = [0.0, 0.0, 0.0, 0.0, 0.0, 0.0, 0.0]\n",
    "predict_zero = knn_test.predict([x_toPredict])\n",
    "# predict_zero = reg.predict([x_toPredict])\n",
    "print(predict_zero)\n",
    "# total_points = knn_total.predict([x_toPredict])\n",
    "# total_points = sum(x_toPredict) + predict_zero\n",
    "# print(total_points)\n",
    "\n",
    "# print(predict_zero >= 30.0)\n",
    "# predict_zero = 30.0\n",
    "\"\"\"\n",
    "\n",
    "\n",
    "\n",
    "\n",
    "# found KNeighborsRegressor(k) has lowest error with k=2 and LeaveOneOut\n",
    "# found KNeighborsClassifier(k) has lowest error with k=5 and LeaveOneOut\n",
    "\n",
    "errors = []\n",
    "for k in range(1,30):\n",
    "    collector = []\n",
    "    # use leave one out, because dataset is so small\n",
    "    loo = LeaveOneOut()\n",
    "\n",
    "    for train_idx, test_idx in loo.split(X):\n",
    "        X_train, X_test = X.iloc[train_idx], X.iloc[test_idx]\n",
    "        y_train, y_test = y.iloc[train_idx], y.iloc[test_idx]\n",
    "        knn = KNeighborsRegressor(k).fit(X_train, y_train)\n",
    "        \n",
    "        y_hat = knn.predict(X_test)\n",
    "        \n",
    "        collector.append(y_hat[0])\n",
    "        \n",
    "          \n",
    "    y_pred = np.array(collector)   \n",
    "    \n",
    "    errors.append({'k': k,\n",
    "                  'mae': mean_absolute_error(y, y_pred),\n",
    "                  'rmse': mean_squared_error(y, y_pred, squared=False)})\n",
    "    \n",
    "    \n",
    "error_df = pd.DataFrame(errors).round(3)\n",
    "mae_knn_reg = error_df['mae'].iloc[error_df['mae'].idxmin()]\n",
    "rmse_knn_reg = error_df['rmse'].iloc[error_df['rmse'].idxmin()]\n",
    "\n",
    "y = y_pass\n",
    "errors = []\n",
    "for k in range(1,30):\n",
    "    collector = []\n",
    "    collector_proba = []\n",
    "    # use leave one out, because dataset is so small\n",
    "    loo = LeaveOneOut()\n",
    "\n",
    "    for train_idx, test_idx in loo.split(X):\n",
    "        X_train, X_test = X.iloc[train_idx], X.iloc[test_idx]\n",
    "        y_train, y_test = y.iloc[train_idx], y.iloc[test_idx]\n",
    "        knn = KNeighborsClassifier(k).fit(X_train, y_train)\n",
    "        \n",
    "        y_hat = knn.predict(X_test)\n",
    "        y_proba = knn.predict_proba(X_test)[0][1]\n",
    "        collector.append(y_hat[0])\n",
    "        collector_proba.append(y_proba)\n",
    "        \n",
    "          \n",
    "    y_pred = np.array(collector)   \n",
    "    \n",
    "    errors.append({\"k\": k,\n",
    "                       \"acc\": accuracy_score(y, y_pred),\n",
    "                       \"bacc\": balanced_accuracy_score(y, y_pred),\n",
    "                    \"proba\": collector_proba})\n",
    "\n",
    "error_df = pd.DataFrame(errors).round(3)              \n",
    "acc_knn_clas = error_df['acc'].iloc[error_df['acc'].idxmax()]\n",
    "bacc_knn_clas = error_df['bacc'].iloc[error_df['bacc'].idxmax()]\n",
    "\n",
    "proba = error_df['proba'].iloc[error_df['acc'].idxmax()]\n",
    "\n",
    "print(\"MAE: \", mae_knn_reg)\n",
    "print(\"RMSE: \", rmse_knn_reg)\n",
    "print(\"ACC: \", acc_knn_clas)\n",
    "print(\"BACC: \", bacc_knn_clas)\n",
    "print(\"PROBA: \", proba)\n"
   ]
  },
  {
   "cell_type": "code",
   "execution_count": 28,
   "id": "c0830568",
   "metadata": {},
   "outputs": [
    {
     "data": {
      "image/png": "[encoded data removed]",
      "text/plain": [
       "<Figure size 640x480 with 1 Axes>"
      ]
     },
     "metadata": {},
     "output_type": "display_data"
    },
    {
     "data": {
      "image/png": "[encoded data removed]",
      "text/plain": [
       "<Figure size 640x480 with 1 Axes>"
      ]
     },
     "metadata": {},
     "output_type": "display_data"
    }
   ],
   "source": [
    "################################################# LINEAR REGRESSION #################################################\n",
    "\n",
    "pd.set_option('display.max_rows', None)  # Show all rows\n",
    "pd.set_option('display.max_columns', None)  # Show all columns\n",
    "pd.set_option('display.width', None)\n",
    "df = activity_df\n",
    "\"\"\"\n",
    "dfs = {}\n",
    "for name in activity_df['Vollständiger Name'].unique():\n",
    "    dfs[name] = activity_df[activity_df['Vollständiger Name'] == name].reset_index(drop=True)\n",
    "dfs['Student2']\n",
    "\"\"\"\n",
    "name_counts = df.groupby('Vollständiger Name').size().reset_index(name='activity_count')\n",
    "activity_count_df = pd.DataFrame({'name': name_counts['Vollständiger Name'], 'activity_count': name_counts['activity_count']})\n",
    "rating_name_df = rating_df[['Kurs gesamt (Punkte)', 'Name']].copy()\n",
    "activity_count_df.rename(columns={'Vollständiger Name': 'Name'}, inplace=True)\n",
    "rating_name_df.rename(columns={'Name': 'name'}, inplace=True)\n",
    "merged = pd.merge(rating_name_df, activity_count_df, on='name', how='left')\n",
    "merged.fillna(0.0, inplace=True)\n",
    "# print(merged)\n",
    "X = merged['activity_count'].values.reshape(-1, 1)\n",
    "y = merged['Kurs gesamt (Punkte)'].values\n",
    "reg = LinearRegression().fit(X, y)\n",
    "y_hat = reg.predict(X).round(3)\n",
    "mae_lin_reg = mean_absolute_error(y_hat, y).round(3)\n",
    "rmse_lin_reg = mean_squared_error(y_hat, y, squared=False).round(3)\n",
    "pred_lin_act = np.where(y_hat < 50, 0, 1)\n",
    "proba_lin_act = y_hat/100\n",
    "plt.scatter(X, y, color='blue', marker='o', label='True Points')\n",
    "# plt.scatter(X, y_hat, color='red', marker='x', label='Predicted Points')\n",
    "plt.plot(X, y_hat, color=\"red\")\n",
    "plt.show()\n",
    "\n",
    "df = rating_df\n",
    "X = df['Quiz gesamt (Punkte)'].values.reshape(-1, 1)\n",
    "y = df['Kurs gesamt (Punkte)'].values\n",
    "reg = LinearRegression().fit(X, y)\n",
    "y_hat = reg.predict(X)\n",
    "mae_lin_reg = mean_absolute_error(y_hat, y).round(3)\n",
    "rmse_lin_reg = mean_squared_error(y_hat, y, squared=False).round(3)\n",
    "\n",
    "plt.scatter(X, y, color='blue', marker='o', label='True Points')\n",
    "# plt.scatter(X, y_hat, color='red', marker='x', label='Predicted Points')\n",
    "plt.plot(X, y_hat, color=\"red\")\n",
    "activity_predict_zero_total = reg.predict([[0.0]])\n",
    "activity_predict_zero_total = activity_predict_zero_total[0]\n",
    "\n",
    "pred_lin = np.where(y_hat < 50, 0, 1)\n",
    "proba_lin = y_hat/100"
   ]
  },
  {
   "cell_type": "code",
   "execution_count": 21,
   "id": "f69c5803",
   "metadata": {},
   "outputs": [
    {
     "name": "stdout",
     "output_type": "stream",
     "text": [
      "MAE:  11.402\n",
      "RMSE:  14.446\n",
      "ACC:  1.0\n",
      "bacc_tree:  1.0\n",
      "KNN_REG MAE:  13.554\n",
      "KNN_REG RMSE:  18.166\n",
      "\n",
      "TREE_REG MAE:  11.402\n",
      "TREE_REG RMSE:  14.446\n",
      "\n",
      "KNN_CLAS ACC:  0.967\n",
      "KNN_CLAS BACC:  0.981\n",
      "\n",
      "TREE_CLAS ACC:  0.967\n",
      "TREE_CLAS BACC:  0.981\n",
      "\n",
      "LIN_REG MAE:  11.691\n",
      "LIN_REG RMSE:  13.813\n"
     ]
    }
   ],
   "source": [
    "################################################# DECISION TREES #################################################\n",
    "\n",
    "df = rating_df\n",
    "# extract X,y arrays\n",
    "quiz_columns = [string for string in df.columns if \"Quiz\" in string and \"gesamt\" not in string]\n",
    "X = df[quiz_columns].astype(float)\n",
    "y_test = df[\"Test: Exam Attempt 1 (Punkte)\"].astype(float)\n",
    "y_total = df[\"Kurs gesamt (Punkte)\"].astype(float)\n",
    "y_pass = y_total.apply(lambda x: 0 if x < 50 else 1)\n",
    "\n",
    "mmSc = MinMaxScaler()\n",
    "mmSc.fit(X)\n",
    "X = mmSc.transform(X)\n",
    "X = pd.DataFrame(X)\n",
    "y = y_total\n",
    "\n",
    "\"\"\"\n",
    "tree_reg = DecisionTreeRegressor(max_depth=10)\n",
    "tree_reg.fit(X, y)\n",
    "y_pred = tree_reg.predict(X)\n",
    "      \n",
    "x_toPredict = [0.0, 0.0, 0.0, 0.0, 0.0, 0.0, 0.0]\n",
    "print(tree_reg.predict([x_toPredict]))\n",
    "perfect_score = [[10.0, 11.0, 10.0, 12.0, 14.0, 11.0, 7.0]]\n",
    "x_toPredict = mmSc.transform(np.array(perfect_score).reshape(-1, 7))\n",
    "x_toPredict = [[1,1,1,1,1,1,1]]\n",
    "print(x_toPredict)\n",
    "print(tree_reg.predict(x_toPredict))\n",
    "print(mean_squared_error(np.array(y), y))\n",
    "\n",
    "\"\"\"\n",
    "\n",
    "\"\"\"\n",
    "collector = []\n",
    "# use leave one out, because dataset is so small\n",
    "loo = LeaveOneOut()\n",
    "\n",
    "for train_idx, test_idx in loo.split(X):\n",
    "    X_train, X_test = X.iloc[train_idx], X.iloc[test_idx]\n",
    "    y_train, y_test = y.iloc[train_idx], y.iloc[test_idx]\n",
    "    tree_reg.fit(X_train, y_train)\n",
    "    \n",
    "    y_hat = tree_reg.predict(X_test)\n",
    "    collector.append(y_hat[0])\n",
    "    \n",
    "y_pred = np.array(collector)    \n",
    "\n",
    "mae_tree = mean_absolute_error(y, y_pred)\n",
    "rmse_tree = mean_squared_error(y, y_pred, squared=False)\n",
    "\"\"\"\n",
    "\n",
    "# found DecisionTreeRegressor(max_depth=k), k varies, low and high\n",
    "\n",
    "errors = []\n",
    "for i in range(100):\n",
    "    collector = []\n",
    "    # use leave one out, because dataset is so small\n",
    "    loo = LeaveOneOut()\n",
    "\n",
    "    for train_idx, test_idx in loo.split(X):\n",
    "        X_train, X_test = X.iloc[train_idx], X.iloc[test_idx]\n",
    "        y_train, y_test = y.iloc[train_idx], y.iloc[test_idx]\n",
    "        tree_reg = DecisionTreeRegressor().fit(X_train, y_train)\n",
    "        y_hat = tree_reg.predict(X_test)\n",
    "        collector.append(y_hat[0])\n",
    "\n",
    "    y_pred = np.array(collector)   \n",
    "\n",
    "    errors.append({'idx': i,\n",
    "                  'mae': mean_absolute_error(y, y_pred),\n",
    "                  'rmse': mean_squared_error(y, y_pred, squared=False),\n",
    "                  \"pred\": np.where(y_pred < 50, 0, 1),\n",
    "                  \"proba\": y_pred / 100})\n",
    "    \n",
    "error_df = pd.DataFrame(errors).round(3)\n",
    "\n",
    "mae_tree = error_df['mae'].iloc[error_df['mae'].idxmin()]\n",
    "rmse_tree = error_df['rmse'].iloc[error_df['rmse'].idxmin()]\n",
    "pred_tree = error_df['pred'].iloc[error_df['mae'].idxmax()]\n",
    "proba_tree = error_df['proba'].iloc[error_df['mae'].idxmax()]\n",
    "\n",
    "y = y_pass\n",
    "errors = []\n",
    "for i in range(100):\n",
    "    collector = []\n",
    "    collector_proba = []\n",
    "    # use leave one out, because dataset is so small\n",
    "    loo = LeaveOneOut()\n",
    "\n",
    "    for train_idx, test_idx in loo.split(X):\n",
    "        X_train, X_test = X.iloc[train_idx], X.iloc[test_idx]\n",
    "        y_train, y_test = y.iloc[train_idx], y.iloc[test_idx]\n",
    "        tree_clas = DecisionTreeClassifier().fit(X_train, y_train)\n",
    "        y_hat = tree_clas.predict(X_test)\n",
    "        proba_clas = tree_clas.predict_proba(X_test)[0][1]\n",
    "        collector.append(y_hat[0])\n",
    "        collector_proba.append(proba_clas)\n",
    "\n",
    "    y_pred = np.array(collector)   \n",
    "\n",
    "    errors.append({\"k\": k,\n",
    "                   \"acc\": accuracy_score(y, y_pred),\n",
    "                   \"bacc\": balanced_accuracy_score(y, y_pred),\n",
    "                   \"pred\": np.array(collector),\n",
    "                   \"proba\": np.array(collector_proba)})\n",
    "    \n",
    "error_df = pd.DataFrame(errors).round(3)\n",
    "acc_tree = error_df['acc'].iloc[error_df['acc'].idxmax()]\n",
    "bacc_tree = error_df['bacc'].iloc[error_df['bacc'].idxmax()]\n",
    "\n",
    "print(\"MAE: \", mae_tree)\n",
    "print(\"RMSE: \", rmse_tree)\n",
    "print(\"ACC: \", acc_tree)\n",
    "print(\"bacc_tree: \", bacc_tree)\n",
    "\n",
    "print(\"KNN_REG MAE: \", mae_knn_reg)\n",
    "print(\"KNN_REG RMSE: \", rmse_knn_reg)\n",
    "print(\"\")\n",
    "print(\"TREE_REG MAE: \", mae_tree)\n",
    "print(\"TREE_REG RMSE: \", rmse_tree)\n",
    "print(\"\")\n",
    "print(\"KNN_CLAS ACC: \", acc_knn_clas)\n",
    "print(\"KNN_CLAS BACC: \", bacc_knn_clas)\n",
    "print(\"\")\n",
    "print(\"TREE_CLAS ACC: \", acc_knn_clas)\n",
    "print(\"TREE_CLAS BACC: \", bacc_knn_clas)\n",
    "print(\"\")\n",
    "print(\"LIN_REG MAE: \", mae_lin_reg)\n",
    "print(\"LIN_REG RMSE: \", rmse_lin_reg)\n",
    "\n",
    "# ML_prediction = pd.DataFrame({\"id\": range(30), \"pass\": pred, \"proba\": proba})\n",
    "# print(ML_prediction)"
   ]
  },
  {
   "cell_type": "code",
   "execution_count": 22,
   "id": "df8cf294",
   "metadata": {},
   "outputs": [],
   "source": [
    "################################################# ADD DECISION TREES RESULT TO RESULT DATA FRAME #################################################\n",
    "\n",
    "result_df = rating_df\n",
    "result_df = result_df.sort_values('Nr')\n",
    "# pred_tree = np.where(pred_tree==1, 'Bestanden', 'Nicht bestanden')\n",
    "# pred_lin = np.where(pred_lin==1, 'Bestanden', 'Nicht bestanden')\n",
    "result_df['Abschluss_tree'] = pred_tree\n",
    "result_df['Proba_tree'] = proba_tree\n",
    "result_df['Abschluss_lin'] = pred_lin\n",
    "result_df['Proba_lin'] = proba_lin\n",
    "result_df['Abschluss_lin_act'] = pred_lin_act\n",
    "result_df['Proba_lin_act'] = proba_lin_act"
   ]
  },
  {
   "cell_type": "code",
   "execution_count": 12,
   "id": "7726b987",
   "metadata": {},
   "outputs": [
    {
     "data": {
      "text/plain": [
       "'\\nimport random\\n\\nrandom_numbers = [random.randint(0, 100) for _ in range(30)]\\ngrade_options = [\"Bestanden\", \"Nicht bestanden\"]\\nrandom_grades = [random.choice(grade_options) for _ in range(30)]\\n\\nresult_df = rating_df\\nresult_df[\\'Kursabschluss\\'] = random_grades\\nresult_df[\\'Wahrscheinlichkeit\\'] = random_numbers\\n'"
      ]
     },
     "execution_count": 12,
     "metadata": {},
     "output_type": "execute_result"
    }
   ],
   "source": [
    "################################################# RANDOM VALUES #################################################\n",
    "\"\"\"\n",
    "import random\n",
    "\n",
    "random_numbers = [random.randint(0, 100) for _ in range(30)]\n",
    "grade_options = [\"Bestanden\", \"Nicht bestanden\"]\n",
    "random_grades = [random.choice(grade_options) for _ in range(30)]\n",
    "\n",
    "result_df = rating_df\n",
    "result_df['Kursabschluss'] = random_grades\n",
    "result_df['Wahrscheinlichkeit'] = random_numbers\n",
    "\"\"\""
   ]
  },
  {
   "cell_type": "code",
   "execution_count": 23,
   "id": "e70e05c0",
   "metadata": {},
   "outputs": [
    {
     "name": "stderr",
     "output_type": "stream",
     "text": [
      "[2023-06-05 12:22:03,301] WARNING: STRING columns are by default stored as VARCHAR(80) and therefore cut after 80 characters. You can specify a custom field length for each column using the `column_config` parameter.\n"
     ]
    },
    {
     "name": "stdout",
     "output_type": "stream",
     "text": [
      "[2023-06-05 12:22:03,391] INFO: Successfully created data push job with id '55fbd1e2-c287-433f-ab04-7404f6fba16a'\n",
      "[2023-06-05 12:22:03,393] INFO: Add data frame as file chunks to data push job with id '55fbd1e2-c287-433f-ab04-7404f6fba16a'\n"
     ]
    },
    {
     "data": {
      "application/vnd.jupyter.widget-view+json": {
       "model_id": "2bd8987a6f974399bac79695b67af94f",
       "version_major": 2,
       "version_minor": 0
      },
      "text/plain": [
       "  0%|          | 0/1 [00:00<?, ?it/s]"
      ]
     },
     "metadata": {},
     "output_type": "display_data"
    },
    {
     "name": "stdout",
     "output_type": "stream",
     "text": [
      "[2023-06-05 12:22:03,635] INFO: Successfully upserted file chunk to data push job with id '55fbd1e2-c287-433f-ab04-7404f6fba16a'\n",
      "[2023-06-05 12:22:03,858] INFO: Successfully triggered execution for data push job with id '55fbd1e2-c287-433f-ab04-7404f6fba16a'\n",
      "[2023-06-05 12:22:03,860] INFO: Wait for execution of data push job with id '55fbd1e2-c287-433f-ab04-7404f6fba16a'\n"
     ]
    },
    {
     "data": {
      "application/vnd.jupyter.widget-view+json": {
       "model_id": "d0241eb69b314fdcbf78a8cd0a67e956",
       "version_major": 2,
       "version_minor": 0
      },
      "text/plain": [
       "0it [00:00, ?it/s]"
      ]
     },
     "metadata": {},
     "output_type": "display_data"
    },
    {
     "name": "stdout",
     "output_type": "stream",
     "text": [
      "[2023-06-05 12:22:10,074] INFO: Successfully created table 'MachineLearning' in data pool\n",
      "[2023-06-05 12:22:10,223] INFO: Successfully deleted data push job with id '55fbd1e2-c287-433f-ab04-7404f6fba16a'\n",
      "[2023-06-05 12:22:11,532] INFO: Successfully deleted data model table with id '96a4fe38-6c4a-4269-8818-26358ee7b758'\n",
      "[2023-06-05 12:22:11,599] INFO: Successfully added data model table with id '462b7390-b1a1-4549-80d0-0b7a9ac5743e' to data model\n"
     ]
    },
    {
     "data": {
      "text/plain": [
       "DataModelTable(id='462b7390-b1a1-4549-80d0-0b7a9ac5743e', data_model_id='ad437bad-a13d-4f31-b247-0760c57ae3b0', name='MachineLearning', alias='MachineLearning', data_pool_id='5656d8b6-63fd-41f0-9e10-6183b71028c9')"
      ]
     },
     "execution_count": 23,
     "metadata": {},
     "output_type": "execute_result"
    }
   ],
   "source": [
    "data_pool.create_table(df=result_df, table_name=\"MachineLearning\", drop_if_exists=True, force=True)\n",
    "\n",
    "try:\n",
    "    data_model.get_tables().find(\"MachineLearning\").delete()\n",
    "except:\n",
    "    print(\"table does not exist yet\")\n",
    "\n",
    "data_model.add_table(name=\"MachineLearning\", alias=\"MachineLearning\")"
   ]
  },
  {
   "cell_type": "code",
   "execution_count": 24,
   "id": "56e393de",
   "metadata": {},
   "outputs": [
    {
     "name": "stdout",
     "output_type": "stream",
     "text": [
      "[2023-06-05 12:22:11,950] INFO: Successfully triggered data model reload for data model with id 'ad437bad-a13d-4f31-b247-0760c57ae3b0'\n",
      "[2023-06-05 12:22:11,952] INFO: Wait for execution of data model reload for data model with id 'ad437bad-a13d-4f31-b247-0760c57ae3b0'\n"
     ]
    },
    {
     "data": {
      "application/vnd.jupyter.widget-view+json": {
       "model_id": "d87f8e06b91942b489e6c86b5f5d20f7",
       "version_major": 2,
       "version_minor": 0
      },
      "text/plain": [
       "0it [00:00, ?it/s]"
      ]
     },
     "metadata": {},
     "output_type": "display_data"
    }
   ],
   "source": [
    "data_model.reload()"
   ]
  }
 ],
 "metadata": {
  "kernelspec": {
   "display_name": "Python 3 (ipykernel)",
   "language": "python",
   "name": "python3"
  },
  "language_info": {
   "codemirror_mode": {
    "name": "ipython",
    "version": 3
   },
   "file_extension": ".py",
   "mimetype": "text/x-python",
   "name": "python",
   "nbconvert_exporter": "python",
   "pygments_lexer": "ipython3",
   "version": "3.8.6"
  }
 },
 "nbformat": 4,
 "nbformat_minor": 5
}
