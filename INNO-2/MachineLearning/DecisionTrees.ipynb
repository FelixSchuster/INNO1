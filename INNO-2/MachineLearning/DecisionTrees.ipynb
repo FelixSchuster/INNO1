{
 "cells": [
  {
   "cell_type": "code",
   "execution_count": null,
   "metadata": {},
   "outputs": [],
   "source": [
    "# import os\n",
    "# os.system(\"pip install --upgrade pip\")\n",
    "# os.system(\"python3.8 -m pip install --upgrade pip\")\n",
    "# os.system(\"pip install --extra-index-url=https://pypi.celonis.cloud/ pycelonis --upgrade\")\n",
    "# os.system(\"pip install pycelonis\")"
   ]
  },
  {
   "attachments": {},
   "cell_type": "markdown",
   "metadata": {},
   "source": [
    "from pycelonis import *\n",
    "from pycelonis.pql import *\n",
    "\n",
    "import pandas as pd\n",
    "import numpy as np\n",
    "import matplotlib.pyplot as plt\n",
    "from sklearn.model_selection import train_test_split\n",
    "from sklearn.preprocessing import MinMaxScaler\n",
    "from sklearn.neighbors import KNeighborsClassifier, KNeighborsRegressor\n",
    "from sklearn.metrics import mean_absolute_error, mean_squared_error, median_absolute_error\n",
    "from sklearn.linear_model import LinearRegression\n",
    "from sklearn.tree import DecisionTreeRegressor, DecisionTreeClassifier\n",
    "from sklearn.model_selection import LeaveOneOut\n",
    "from sklearn.metrics import accuracy_score, balanced_accuracy_score"
   ]
  },
  {
   "attachments": {},
   "cell_type": "markdown",
   "metadata": {},
   "source": [
    "url = \"https://academic-if21b054-technikum-wien-at.eu-2.celonis.cloud/\"\n",
    "\n",
    "file = open('./Machine_Learning/APP_KEY.txt')\n",
    "# file = open('APP_KEY.txt')\n",
    "api_token = file.read()\n",
    "file.close()\n",
    "\n",
    "key_type = \"APP_KEY\"\n",
    "celonis = get_celonis(base_url=url, api_token=api_token, key_type=key_type, permissions=False)"
   ]
  },
  {
   "attachments": {},
   "cell_type": "markdown",
   "metadata": {},
   "source": [
    "data_pool_name = \"datapool-filtered-final-version\"\n",
    "data_model_name = \"datamodel-filtered-final-version\"\n",
    "activity_table_name = \"activities\"\n",
    "rating_table_name = \"rating\""
   ]
  },
  {
   "attachments": {},
   "cell_type": "markdown",
   "metadata": {},
   "source": [
    "data_pool = celonis.data_integration.get_data_pools().find(data_pool_name)\n",
    "data_model = data_pool.get_data_models().find(data_model_name)\n",
    "activity_table = data_model.get_tables().find(activity_table_name)\n",
    "rating_table = data_model.get_tables().find(rating_table_name)"
   ]
  },
  {
   "attachments": {},
   "cell_type": "markdown",
   "metadata": {},
   "source": [
    "query = PQL(distinct=False, limit=None, offset=None)\n",
    "query += PQLColumn(name=\"Zeit\", query=\"\"\" \"ACTIVITIES\".\"zeit\" \"\"\")\n",
    "query += PQLColumn(name=\"Vollständiger Name\", query=\"\"\" \"ACTIVITIES\".\"Vollständiger Name\" \"\"\")\n",
    "query += PQLColumn(name=\"Ereigniskontext - Ereignisname\", query=\"\"\" \"ACTIVITIES\".\"Ereigniskontext - Ereignisname\" \"\"\")\n",
    "\n",
    "activity_df = data_model.export_data_frame(query)"
   ]
  },
  {
   "attachments": {},
   "cell_type": "markdown",
   "metadata": {},
   "source": [
    "query = PQL(distinct=False, limit=None, offset=None)\n",
    "query += PQLColumn(name=\"Nr\", query=\"\"\" \"RATING\".\"Nr\" \"\"\")\n",
    "query += PQLColumn(name=\"Test: Quiz 1 (Punkte)\", query=\"\"\" \"RATING\".\"Test: Quiz 1 (Punkte)\" \"\"\")\n",
    "query += PQLColumn(name=\"Test: Quiz 2 (Punkte)\", query=\"\"\" \"RATING\".\"Test: Quiz 2 (Punkte)\" \"\"\")\n",
    "query += PQLColumn(name=\"Test: Quiz 3 (Punkte)\", query=\"\"\" \"RATING\".\"Test: Quiz 3 (Punkte)\" \"\"\")\n",
    "query += PQLColumn(name=\"Test: Quiz 4 (Punkte)\", query=\"\"\" \"RATING\".\"Test: Quiz 4 (Punkte)\" \"\"\")\n",
    "query += PQLColumn(name=\"Test: Quiz 5 (Punkte)\", query=\"\"\" \"RATING\".\"Test: Quiz 5 (Punkte)\" \"\"\")\n",
    "query += PQLColumn(name=\"Test: Quiz 6 (Punkte)\", query=\"\"\" \"RATING\".\"Test: Quiz 6 (Punkte)\" \"\"\")\n",
    "query += PQLColumn(name=\"Test: Quiz 7 (Punkte)\", query=\"\"\" \"RATING\".\"Test: Quiz 7 (Punkte)\" \"\"\")\n",
    "query += PQLColumn(name=\"Quiz gesamt (Punkte)\", query=\"\"\" \"RATING\".\"Quiz gesamt (Punkte)\" \"\"\")\n",
    "query += PQLColumn(name=\"Test: Exam Attempt 1 (Punkte)\", query=\"\"\" \"RATING\".\"Test: Exam Attempt 1 (Punkte)\" \"\"\")\n",
    "query += PQLColumn(name=\"Kurs gesamt (Punkte)\", query=\"\"\" \"RATING\".\"Kurs gesamt (Punkte)\" \"\"\")\n",
    "query += PQLColumn(name=\"Name\", query=\"\"\" \"RATING\".\"Name\" \"\"\")\n",
    "\n",
    "rating_df = data_model.export_data_frame(query)"
   ]
  },
  {
   "attachments": {},
   "cell_type": "markdown",
   "metadata": {},
   "source": [
    "################################################# DECISION TREES #################################################\n",
    "\n",
    "df = rating_df\n",
    "# extract X,y arrays\n",
    "quiz_columns = [string for string in df.columns if \"Quiz\" in string and \"gesamt\" not in string]\n",
    "X = df[quiz_columns].astype(float)\n",
    "y_test = df[\"Test: Exam Attempt 1 (Punkte)\"].astype(float)\n",
    "y_total = df[\"Kurs gesamt (Punkte)\"].astype(float)\n",
    "\n",
    "mmSc = MinMaxScaler()\n",
    "mmSc.fit(X)\n",
    "X = mmSc.transform(X)\n",
    "X = pd.DataFrame(X)\n",
    "y = y_total\n",
    "\n",
    "errors = []\n",
    "for i in range(100):\n",
    "    collector = []\n",
    "    # use leave one out, because dataset is so small\n",
    "    loo = LeaveOneOut()\n",
    "\n",
    "    for train_idx, test_idx in loo.split(X):\n",
    "        X_train, X_test = X.iloc[train_idx], X.iloc[test_idx]\n",
    "        y_train, y_test = y.iloc[train_idx], y.iloc[test_idx]\n",
    "        tree_reg = DecisionTreeRegressor().fit(X_train, y_train)\n",
    "        y_hat = tree_reg.predict(X_test)\n",
    "        collector.append(y_hat[0])\n",
    "\n",
    "    y_pred = np.round(np.array(collector), 3)   \n",
    "\n",
    "    errors.append({'idx': i,\n",
    "                  'mae': mean_absolute_error(y, y_pred),\n",
    "                  'rmse': mean_squared_error(y, y_pred, squared=False),\n",
    "                  \"pred\": np.where(y_pred < 50, 0, 1),\n",
    "                  \"proba\": y_pred})\n",
    "    \n",
    "error_df = pd.DataFrame(errors).round(3)\n",
    "pred_tree = error_df['pred'].iloc[error_df['mae'].idxmax()]\n",
    "points_tree = error_df['proba'].iloc[error_df['mae'].idxmax()]"
   ]
  },
  {
   "attachments": {},
   "cell_type": "markdown",
   "metadata": {},
   "source": [
    "################################################# ADD DECISION TREES RESULT TO RESULT DATA FRAME #################################################\n",
    "\n",
    "result_df = rating_df\n",
    "result_df = result_df.sort_values('Nr')\n",
    "result_df['Abschluss_tree'] = pred_tree\n",
    "result_df['Punkte_tree'] = points_tree\n",
    "result_df = result_df.round(2)"
   ]
  },
  {
   "attachments": {},
   "cell_type": "markdown",
   "metadata": {},
   "source": [
    "data_pool.create_table(df=result_df, table_name=\"DecisionTrees\", drop_if_exists=True, force=True)\n",
    "\n",
    "try:\n",
    "    data_model.get_tables().find(\"DecisionTrees\").delete()\n",
    "except:\n",
    "    print(\"table does not exist yet\")\n",
    "\n",
    "data_model.add_table(name=\"DecisionTrees\", alias=\"DecisionTrees\")"
   ]
  },
  {
   "attachments": {},
   "cell_type": "markdown",
   "metadata": {},
   "source": [
    "data_model.reload()"
   ]
  }
 ],
 "metadata": {
  "language_info": {
   "name": "python"
  },
  "orig_nbformat": 4
 },
 "nbformat": 4,
 "nbformat_minor": 2
}
